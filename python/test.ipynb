{
 "cells": [
  {
   "cell_type": "code",
   "execution_count": 1,
   "metadata": {},
   "outputs": [
    {
     "name": "stderr",
     "output_type": "stream",
     "text": [
      "25/02/25 22:50:45 WARN Utils: Your hostname, Quintens-Laptop.local resolves to a loopback address: 127.0.0.1; using 192.168.1.5 instead (on interface en0)\n",
      "25/02/25 22:50:45 WARN Utils: Set SPARK_LOCAL_IP if you need to bind to another address\n",
      "Setting default log level to \"WARN\".\n",
      "To adjust logging level use sc.setLogLevel(newLevel). For SparkR, use setLogLevel(newLevel).\n",
      "25/02/25 22:50:45 WARN NativeCodeLoader: Unable to load native-hadoop library for your platform... using builtin-java classes where applicable\n"
     ]
    },
    {
     "name": "stdout",
     "output_type": "stream",
     "text": [
      "The selected resolution for a distance of 5 km is: 6\n"
     ]
    }
   ],
   "source": [
    "from coordgenerator import generate_random_coordinates_df\n",
    "from resolutionselector import select_resolution\n",
    "from pyspark.sql import SparkSession\n",
    "import h3\n",
    "from pyspark.sql.functions import udf, monotonically_increasing_id, explode, collect_list, col\n",
    "from pyspark.sql.types import StringType, ArrayType\n",
    "from pyspark.sql.functions import expr, posexplode, radians, sin, cos, sqrt, atan2, lit\n",
    "import random\n",
    "import math\n",
    "import numpy as np\n",
    "from itertools import combinations\n",
    "from pyspark.sql.types import StructType, StructField, DoubleType, IntegerType\n",
    "\n",
    "# Initialize Spark session\n",
    "spark = SparkSession.builder.appName(\"RandomCoordinates\")\\\n",
    "    .getOrCreate()\n",
    "\n",
    "# Settings\n",
    "distance = 5\n",
    "num_points = 10000\n",
    "\n",
    "resolution = select_resolution(distance)\n",
    "print(f\"The selected resolution for a distance of {distance} km is: {resolution}\")\n"
   ]
  },
  {
   "cell_type": "markdown",
   "metadata": {},
   "source": [
    "## Data Prep"
   ]
  },
  {
   "cell_type": "code",
   "execution_count": 2,
   "metadata": {},
   "outputs": [
    {
     "name": "stdout",
     "output_type": "stream",
     "text": [
      "There are 49995000 combos of points to calculate\n",
      "CPU times: user 21.4 ms, sys: 2.96 ms, total: 24.4 ms\n",
      "Wall time: 1.03 s\n"
     ]
    },
    {
     "data": {
      "text/plain": [
       "DataFrame[id: int, latitude: double, longitude: double]"
      ]
     },
     "execution_count": 2,
     "metadata": {},
     "output_type": "execute_result"
    }
   ],
   "source": [
    "%%time\n",
    "\n",
    "# Generate random coordinates DataFrame (assuming this function is defined)\n",
    "print(f'There are {math.comb(num_points, 2)} combos of points to calculate')\n",
    "min_lat, min_lon = -25.86653, 26.74617\n",
    "max_lat, max_lon = 49.65699, 70.25976\n",
    "\n",
    "random_coordinates = [\n",
    "    (_, random.uniform(min_lat, max_lat), random.uniform(min_lon, max_lon))\n",
    "    for _ in range(num_points)\n",
    "]\n",
    "\n",
    "# Define schema\n",
    "schema = StructType([\n",
    "    StructField(\"id\", IntegerType(), True),\n",
    "    StructField(\"latitude\", DoubleType(), True),\n",
    "    StructField(\"longitude\", DoubleType(), True)\n",
    "])\n",
    "\n",
    "# Create DataFrame\n",
    "coordinates_df = spark.createDataFrame(random_coordinates, schema)\n",
    "coordinates_df.cache()\n"
   ]
  },
  {
   "cell_type": "code",
   "execution_count": 3,
   "metadata": {},
   "outputs": [
    {
     "name": "stdout",
     "output_type": "stream",
     "text": [
      "CPU times: user 8.49 ms, sys: 4.33 ms, total: 12.8 ms\n",
      "Wall time: 221 ms\n"
     ]
    }
   ],
   "source": [
    "%%time\n",
    "# Define UDF to convert latitude and longitude to H3 index\n",
    "def lat_lon_to_h3(lat, lon, resolution):\n",
    "    return h3.latlng_to_cell(lat, lon, resolution)\n",
    "\n",
    "def grid_disk_k1(cell):\n",
    "    return h3.grid_disk(cell, k=1)\n",
    "\n",
    "# Register UDF\n",
    "lat_lon_to_h3_udf = udf(lat_lon_to_h3, StringType())\n",
    "grid_disk_k1_udf = udf(grid_disk_k1, ArrayType(StringType()))\n",
    "\n",
    "# Add H3 column to DataFrame\n",
    "coordinates_df = coordinates_df.withColumn(\"h3_index\", lat_lon_to_h3_udf(coordinates_df[\"latitude\"], coordinates_df[\"longitude\"], lit(resolution)))\n",
    "coordinates_df = coordinates_df.withColumn(\"h3_neighbours\", grid_disk_k1_udf(coordinates_df[\"h3_index\"]))\n",
    "\n",
    "# Explode the 'h3_neighbours' column\n",
    "exploded_df = coordinates_df.withColumn(\"h3_neighbour\", explode(coordinates_df[\"h3_neighbours\"]))\n",
    "\n",
    "# Group by 'h3_neighbour' and collect list of IDs\n",
    "grouped_df = exploded_df.groupBy(\"h3_neighbour\").agg(collect_list(\"id\").alias(\"id_list\"))\n",
    "\n",
    "# Filter groups with more than one ID and create combinations\n",
    "combinations_df = grouped_df.filter(expr(\"size(id_list) > 1\"))\n",
    "\n",
    "# Define UDF to generate combinations\n",
    "def generate_combinations(id_list):\n",
    "    return list(combinations(id_list, 2))\n",
    "\n",
    "combination_schema = ArrayType(StructType([\n",
    "    StructField(\"ID1\", StringType(), False),\n",
    "    StructField(\"ID2\", StringType(), False)\n",
    "]))\n",
    "\n",
    "generate_combinations_udf = udf(generate_combinations, combination_schema)\n",
    "\n",
    "# Generate combinations and explode\n",
    "combinations_df = grouped_df.withColumn(\"combinations\", explode(generate_combinations_udf(grouped_df[\"id_list\"])))\n",
    "\n",
    "# Select and rename columns\n",
    "combinations_df = combinations_df.select(\n",
    "    combinations_df[\"combinations.ID1\"].cast(\"string\"),\n",
    "    combinations_df[\"combinations.ID2\"].cast(\"string\")\n",
    ")"
   ]
  },
  {
   "cell_type": "markdown",
   "metadata": {},
   "source": [
    "# Self-join to create combinations\n",
    "combinations_df = posexploded_df.alias(\"a\").join(\n",
    "    posexploded_df.alias(\"b\"),\n",
    "    (col(\"a.h3_neighbour\") == col(\"b.h3_neighbour\")) & (col(\"a.pos\") < col(\"b.pos\")),\n",
    "    \"inner\"\n",
    ").select(\n",
    "    col(\"a.col\").alias(\"ID1\"),\n",
    "    col(\"b.col\").alias(\"ID2\")\n",
    ").filter(col(\"ID1\") != col(\"ID2\"))\n",
    "\n",
    "df1 = posexploded_df.toPandas()\n"
   ]
  },
  {
   "cell_type": "code",
   "execution_count": 4,
   "metadata": {},
   "outputs": [
    {
     "name": "stderr",
     "output_type": "stream",
     "text": [
      "                                                                                \r"
     ]
    },
    {
     "name": "stdout",
     "output_type": "stream",
     "text": [
      "2532\n"
     ]
    }
   ],
   "source": [
    "coordinates_df1 = coordinates_df.withColumnRenamed('id', 'ID1')\\\n",
    "    .withColumnRenamed('latitude', 'lat1')\\\n",
    "    .withColumnRenamed('longitude', 'lon1')\\\n",
    "    .select('ID1', 'lat1', 'lon1')\n",
    "\n",
    "coordinates_df2 = coordinates_df.withColumnRenamed('id', 'ID2')\\\n",
    "    .withColumnRenamed('latitude', 'lat2')\\\n",
    "    .withColumnRenamed('longitude', 'lon2')\\\n",
    "    .select('ID2', 'lat2', 'lon2')\n",
    "\n",
    "combinations_df1 = combinations_df.join(\n",
    "    coordinates_df1,\n",
    "    combinations_df.ID1 == coordinates_df1.ID1,\n",
    "    \"left\"\n",
    ")\n",
    "\n",
    "combinations_final = combinations_df1.join(\n",
    "    coordinates_df2,\n",
    "    combinations_df1.ID2 == coordinates_df2.ID2,\n",
    "    \"left\"\n",
    ")\n",
    "\n",
    "print(combinations_final.count())\n"
   ]
  },
  {
   "cell_type": "code",
   "execution_count": 5,
   "metadata": {},
   "outputs": [
    {
     "name": "stderr",
     "output_type": "stream",
     "text": [
      "25/02/25 22:50:58 WARN GarbageCollectionMetrics: To enable non-built-in garbage collector(s) List(G1 Concurrent GC), users should configure it(them) to spark.eventLog.gcMetrics.youngGenerationGarbageCollectors or spark.eventLog.gcMetrics.oldGenerationGarbageCollectors\n"
     ]
    }
   ],
   "source": [
    "\n",
    "# Calculate Haversine distance\n",
    "earth_radius_km = 6371.0\n",
    "\n",
    "combinations_filtered = combinations_final.withColumn(\n",
    "    \"distance_km\",\n",
    "    2 * earth_radius_km * atan2(\n",
    "        sqrt(\n",
    "            (sin(radians(col(\"lat2\")) - radians(col(\"lat1\"))) / 2)**2 +\n",
    "            cos(radians(col(\"lat1\"))) * cos(radians(col(\"lat2\"))) *\n",
    "            (sin(radians(col(\"lon2\")) - radians(col(\"lon1\"))) / 2)**2\n",
    "        ),\n",
    "        sqrt(1 - (\n",
    "            (sin(radians(col(\"lat2\")) - radians(col(\"lat1\"))) / 2)**2 +\n",
    "            cos(radians(col(\"lat1\"))) * cos(radians(col(\"lat2\"))) *\n",
    "            (sin(radians(col(\"lon2\")) - radians(col(\"lon1\"))) / 2)**2\n",
    "        ))\n",
    "    )\n",
    ")"
   ]
  },
  {
   "cell_type": "code",
   "execution_count": 8,
   "metadata": {},
   "outputs": [],
   "source": [
    "# Assuming combinations_filtered is your DataFrame\n",
    "filtered_df = combinations_filtered.filter(col('distance_km') <= lit(5))\n",
    "\n",
    "# Show the result\n",
    "result = filtered_df.toPandas()"
   ]
  },
  {
   "cell_type": "code",
   "execution_count": 15,
   "metadata": {},
   "outputs": [],
   "source": [
    "result = result.drop_duplicates()"
   ]
  },
  {
   "cell_type": "code",
   "execution_count": 19,
   "metadata": {},
   "outputs": [
    {
     "data": {
      "text/html": [
       "<div>\n",
       "<style scoped>\n",
       "    .dataframe tbody tr th:only-of-type {\n",
       "        vertical-align: middle;\n",
       "    }\n",
       "\n",
       "    .dataframe tbody tr th {\n",
       "        vertical-align: top;\n",
       "    }\n",
       "\n",
       "    .dataframe thead th {\n",
       "        text-align: right;\n",
       "    }\n",
       "</style>\n",
       "<table border=\"1\" class=\"dataframe\">\n",
       "  <thead>\n",
       "    <tr style=\"text-align: right;\">\n",
       "      <th></th>\n",
       "      <th>ID1</th>\n",
       "      <th>ID2</th>\n",
       "      <th>ID1</th>\n",
       "      <th>lat1</th>\n",
       "      <th>lon1</th>\n",
       "      <th>ID2</th>\n",
       "      <th>lat2</th>\n",
       "      <th>lon2</th>\n",
       "      <th>distance_km</th>\n",
       "    </tr>\n",
       "  </thead>\n",
       "  <tbody>\n",
       "    <tr>\n",
       "      <th>0</th>\n",
       "      <td>5717</td>\n",
       "      <td>5912</td>\n",
       "      <td>5717</td>\n",
       "      <td>42.644089</td>\n",
       "      <td>67.604921</td>\n",
       "      <td>5912</td>\n",
       "      <td>42.613841</td>\n",
       "      <td>67.623255</td>\n",
       "      <td>3.682656</td>\n",
       "    </tr>\n",
       "    <tr>\n",
       "      <th>1</th>\n",
       "      <td>272</td>\n",
       "      <td>2399</td>\n",
       "      <td>272</td>\n",
       "      <td>47.106743</td>\n",
       "      <td>59.709476</td>\n",
       "      <td>2399</td>\n",
       "      <td>47.077581</td>\n",
       "      <td>59.665841</td>\n",
       "      <td>4.628949</td>\n",
       "    </tr>\n",
       "    <tr>\n",
       "      <th>8</th>\n",
       "      <td>2122</td>\n",
       "      <td>6612</td>\n",
       "      <td>2122</td>\n",
       "      <td>42.750976</td>\n",
       "      <td>59.988563</td>\n",
       "      <td>6612</td>\n",
       "      <td>42.719121</td>\n",
       "      <td>59.986514</td>\n",
       "      <td>3.546035</td>\n",
       "    </tr>\n",
       "    <tr>\n",
       "      <th>15</th>\n",
       "      <td>1364</td>\n",
       "      <td>6850</td>\n",
       "      <td>1364</td>\n",
       "      <td>45.570782</td>\n",
       "      <td>64.467730</td>\n",
       "      <td>6850</td>\n",
       "      <td>45.530379</td>\n",
       "      <td>64.484392</td>\n",
       "      <td>4.676133</td>\n",
       "    </tr>\n",
       "    <tr>\n",
       "      <th>19</th>\n",
       "      <td>150</td>\n",
       "      <td>308</td>\n",
       "      <td>150</td>\n",
       "      <td>44.231257</td>\n",
       "      <td>63.971191</td>\n",
       "      <td>308</td>\n",
       "      <td>44.252806</td>\n",
       "      <td>63.974016</td>\n",
       "      <td>2.406611</td>\n",
       "    </tr>\n",
       "    <tr>\n",
       "      <th>...</th>\n",
       "      <td>...</td>\n",
       "      <td>...</td>\n",
       "      <td>...</td>\n",
       "      <td>...</td>\n",
       "      <td>...</td>\n",
       "      <td>...</td>\n",
       "      <td>...</td>\n",
       "      <td>...</td>\n",
       "      <td>...</td>\n",
       "    </tr>\n",
       "    <tr>\n",
       "      <th>623</th>\n",
       "      <td>2221</td>\n",
       "      <td>5864</td>\n",
       "      <td>2221</td>\n",
       "      <td>-16.668124</td>\n",
       "      <td>68.529431</td>\n",
       "      <td>5864</td>\n",
       "      <td>-16.640283</td>\n",
       "      <td>68.499944</td>\n",
       "      <td>4.410336</td>\n",
       "    </tr>\n",
       "    <tr>\n",
       "      <th>630</th>\n",
       "      <td>729</td>\n",
       "      <td>4135</td>\n",
       "      <td>729</td>\n",
       "      <td>-17.071971</td>\n",
       "      <td>62.121634</td>\n",
       "      <td>4135</td>\n",
       "      <td>-17.041750</td>\n",
       "      <td>62.109644</td>\n",
       "      <td>3.594065</td>\n",
       "    </tr>\n",
       "    <tr>\n",
       "      <th>634</th>\n",
       "      <td>556</td>\n",
       "      <td>1437</td>\n",
       "      <td>556</td>\n",
       "      <td>-24.283514</td>\n",
       "      <td>37.217519</td>\n",
       "      <td>1437</td>\n",
       "      <td>-24.306630</td>\n",
       "      <td>37.244247</td>\n",
       "      <td>3.734258</td>\n",
       "    </tr>\n",
       "    <tr>\n",
       "      <th>638</th>\n",
       "      <td>1947</td>\n",
       "      <td>3156</td>\n",
       "      <td>1947</td>\n",
       "      <td>-25.467807</td>\n",
       "      <td>31.011293</td>\n",
       "      <td>3156</td>\n",
       "      <td>-25.472502</td>\n",
       "      <td>31.025279</td>\n",
       "      <td>1.498044</td>\n",
       "    </tr>\n",
       "    <tr>\n",
       "      <th>645</th>\n",
       "      <td>7473</td>\n",
       "      <td>7553</td>\n",
       "      <td>7473</td>\n",
       "      <td>-25.749691</td>\n",
       "      <td>30.518980</td>\n",
       "      <td>7553</td>\n",
       "      <td>-25.774903</td>\n",
       "      <td>30.515706</td>\n",
       "      <td>2.822537</td>\n",
       "    </tr>\n",
       "  </tbody>\n",
       "</table>\n",
       "<p>126 rows × 9 columns</p>\n",
       "</div>"
      ],
      "text/plain": [
       "      ID1   ID2   ID1       lat1       lon1   ID2       lat2       lon2  \\\n",
       "0    5717  5912  5717  42.644089  67.604921  5912  42.613841  67.623255   \n",
       "1     272  2399   272  47.106743  59.709476  2399  47.077581  59.665841   \n",
       "8    2122  6612  2122  42.750976  59.988563  6612  42.719121  59.986514   \n",
       "15   1364  6850  1364  45.570782  64.467730  6850  45.530379  64.484392   \n",
       "19    150   308   150  44.231257  63.971191   308  44.252806  63.974016   \n",
       "..    ...   ...   ...        ...        ...   ...        ...        ...   \n",
       "623  2221  5864  2221 -16.668124  68.529431  5864 -16.640283  68.499944   \n",
       "630   729  4135   729 -17.071971  62.121634  4135 -17.041750  62.109644   \n",
       "634   556  1437   556 -24.283514  37.217519  1437 -24.306630  37.244247   \n",
       "638  1947  3156  1947 -25.467807  31.011293  3156 -25.472502  31.025279   \n",
       "645  7473  7553  7473 -25.749691  30.518980  7553 -25.774903  30.515706   \n",
       "\n",
       "     distance_km  \n",
       "0       3.682656  \n",
       "1       4.628949  \n",
       "8       3.546035  \n",
       "15      4.676133  \n",
       "19      2.406611  \n",
       "..           ...  \n",
       "623     4.410336  \n",
       "630     3.594065  \n",
       "634     3.734258  \n",
       "638     1.498044  \n",
       "645     2.822537  \n",
       "\n",
       "[126 rows x 9 columns]"
      ]
     },
     "execution_count": 19,
     "metadata": {},
     "output_type": "execute_result"
    }
   ],
   "source": [
    "result"
   ]
  },
  {
   "cell_type": "code",
   "execution_count": 17,
   "metadata": {},
   "outputs": [
    {
     "data": {
      "text/plain": [
       "4.967901618131541"
      ]
     },
     "execution_count": 17,
     "metadata": {},
     "output_type": "execute_result"
    }
   ],
   "source": [
    "result.distance_km.max()"
   ]
  },
  {
   "cell_type": "code",
   "execution_count": 11,
   "metadata": {},
   "outputs": [
    {
     "name": "stdout",
     "output_type": "stream",
     "text": [
      "      ID1   ID2       lat1       lon1       lat2       lon2  distance_km\n",
      "0      47  6910 -17.647175  32.514896 -17.665524  32.488072     3.498723\n",
      "1      70  2391  35.807396  50.076699  35.823026  50.081246     1.785751\n",
      "2     111  3674  47.662532  36.898429  47.621662  36.905420     4.574572\n",
      "3     119  2013  -8.228947  57.203200  -8.215842  57.226930     2.990459\n",
      "4     130  4595  12.497893  57.280299  12.463571  57.306346     4.749940\n",
      "..    ...   ...        ...        ...        ...        ...          ...\n",
      "118  8078  9908  34.953270  41.991642  34.909057  41.999321     4.965843\n",
      "119  8257  8746  30.098598  58.490214  30.067345  58.517623     4.362559\n",
      "120  8663  9214 -14.790933  31.706412 -14.774200  31.733506     3.456519\n",
      "121  9146  9151 -11.592742  37.390043 -11.615392  37.382562     2.647119\n",
      "122  9307  9850   4.369673  61.658412   4.353718  61.618784     4.738310\n",
      "\n",
      "[123 rows x 7 columns]\n",
      "CPU times: user 19 ms, sys: 1.89 ms, total: 20.9 ms\n",
      "Wall time: 19.9 ms\n"
     ]
    }
   ],
   "source": [
    "%%time\n",
    "import numpy as np\n",
    "from scipy.spatial import KDTree\n",
    "import pandas as pd\n",
    "\n",
    "# Function to convert latitude and longitude to Cartesian coordinates\n",
    "def latlon_to_cartesian(lat, lon, R=6371.0):\n",
    "    lat_rad = np.radians(lat)\n",
    "    lon_rad = np.radians(lon)\n",
    "    x = R * np.cos(lat_rad) * np.cos(lon_rad)\n",
    "    y = R * np.cos(lat_rad) * np.sin(lon_rad)\n",
    "    z = R * np.sin(lat_rad)\n",
    "    return x, y, z\n",
    "\n",
    "# Function to calculate Haversine distance\n",
    "def haversine(lat1, lon1, lat2, lon2, R=6371.0):\n",
    "    lat1, lon1, lat2, lon2 = map(np.radians, [lat1, lon1, lat2, lon2])\n",
    "    dlat = lat2 - lat1\n",
    "    dlon = lon2 - lon1\n",
    "    a = np.sin(dlat / 2)**2 + np.cos(lat1) * np.cos(lat2) * np.sin(dlon / 2)**2\n",
    "    c = 2 * np.arctan2(np.sqrt(a), np.sqrt(1 - a))\n",
    "    distance = R * c\n",
    "    return distance\n",
    "\n",
    "# generate data\n",
    "\n",
    "_, latitudes , longitudes = zip(*random_coordinates) \n",
    "\n",
    "# Convert to Cartesian coordinates\n",
    "x, y, z = latlon_to_cartesian(latitudes, longitudes)\n",
    "cartesian_coords = np.vstack((x, y, z)).T\n",
    "\n",
    "# Build KD-Tree\n",
    "tree = KDTree(cartesian_coords)\n",
    "\n",
    "# Query the tree for pairs within 5 km\n",
    "pairs = tree.query_ball_tree(tree, r=5.0)\n",
    "\n",
    "# Collect pairs of points within 5 km and calculate distances\n",
    "close_pairs = []\n",
    "for i, neighbors in enumerate(pairs):\n",
    "    for j in neighbors:\n",
    "        if i < j:  # Ensure each pair is unique\n",
    "            distance = haversine(latitudes[i], longitudes[i], latitudes[j], longitudes[j])\n",
    "            close_pairs.append((i, j, distance))\n",
    "\n",
    "# Create a DataFrame to display the results\n",
    "results = []\n",
    "for idx1, idx2, distance in close_pairs:\n",
    "    results.append({\n",
    "        \"ID1\": idx1,\n",
    "        \"ID2\": idx2,\n",
    "        \"lat1\": latitudes[idx1],\n",
    "        \"lon1\": longitudes[idx1],\n",
    "        \"lat2\": latitudes[idx2],\n",
    "        \"lon2\": longitudes[idx2],\n",
    "        \"distance_km\": distance\n",
    "    })\n",
    "\n",
    "df = pd.DataFrame(results)\n",
    "print(df)"
   ]
  },
  {
   "cell_type": "code",
   "execution_count": 18,
   "metadata": {},
   "outputs": [
    {
     "data": {
      "text/plain": [
       "4.967902016999107"
      ]
     },
     "execution_count": 18,
     "metadata": {},
     "output_type": "execute_result"
    }
   ],
   "source": [
    "df.distance_km.max()"
   ]
  },
  {
   "cell_type": "code",
   "execution_count": null,
   "metadata": {},
   "outputs": [],
   "source": [
    "4.967901618131541"
   ]
  },
  {
   "cell_type": "code",
   "execution_count": 16,
   "metadata": {},
   "outputs": [
    {
     "data": {
      "text/html": [
       "<div>\n",
       "<style scoped>\n",
       "    .dataframe tbody tr th:only-of-type {\n",
       "        vertical-align: middle;\n",
       "    }\n",
       "\n",
       "    .dataframe tbody tr th {\n",
       "        vertical-align: top;\n",
       "    }\n",
       "\n",
       "    .dataframe thead th {\n",
       "        text-align: right;\n",
       "    }\n",
       "</style>\n",
       "<table border=\"1\" class=\"dataframe\">\n",
       "  <thead>\n",
       "    <tr style=\"text-align: right;\">\n",
       "      <th></th>\n",
       "      <th></th>\n",
       "      <th>lat1</th>\n",
       "      <th>lon1</th>\n",
       "      <th>lat2</th>\n",
       "      <th>lon2</th>\n",
       "      <th>distance_km</th>\n",
       "    </tr>\n",
       "    <tr>\n",
       "      <th>ID1</th>\n",
       "      <th>ID2</th>\n",
       "      <th></th>\n",
       "      <th></th>\n",
       "      <th></th>\n",
       "      <th></th>\n",
       "      <th></th>\n",
       "    </tr>\n",
       "  </thead>\n",
       "  <tbody>\n",
       "    <tr>\n",
       "      <th rowspan=\"2\" valign=\"top\">0</th>\n",
       "      <th>34359774511</th>\n",
       "      <td>4</td>\n",
       "      <td>4</td>\n",
       "      <td>4</td>\n",
       "      <td>4</td>\n",
       "      <td>4</td>\n",
       "    </tr>\n",
       "    <tr>\n",
       "      <th>34359776062</th>\n",
       "      <td>4</td>\n",
       "      <td>4</td>\n",
       "      <td>4</td>\n",
       "      <td>4</td>\n",
       "      <td>4</td>\n",
       "    </tr>\n",
       "    <tr>\n",
       "      <th>1</th>\n",
       "      <th>77309461461</th>\n",
       "      <td>7</td>\n",
       "      <td>7</td>\n",
       "      <td>7</td>\n",
       "      <td>7</td>\n",
       "      <td>7</td>\n",
       "    </tr>\n",
       "    <tr>\n",
       "      <th rowspan=\"2\" valign=\"top\">2</th>\n",
       "      <th>51539673302</th>\n",
       "      <td>4</td>\n",
       "      <td>4</td>\n",
       "      <td>4</td>\n",
       "      <td>4</td>\n",
       "      <td>4</td>\n",
       "    </tr>\n",
       "    <tr>\n",
       "      <th>68719573184</th>\n",
       "      <td>4</td>\n",
       "      <td>4</td>\n",
       "      <td>4</td>\n",
       "      <td>4</td>\n",
       "      <td>4</td>\n",
       "    </tr>\n",
       "    <tr>\n",
       "      <th>...</th>\n",
       "      <th>...</th>\n",
       "      <td>...</td>\n",
       "      <td>...</td>\n",
       "      <td>...</td>\n",
       "      <td>...</td>\n",
       "      <td>...</td>\n",
       "    </tr>\n",
       "    <tr>\n",
       "      <th>77309511229</th>\n",
       "      <th>77309496802</th>\n",
       "      <td>6</td>\n",
       "      <td>6</td>\n",
       "      <td>6</td>\n",
       "      <td>6</td>\n",
       "      <td>6</td>\n",
       "    </tr>\n",
       "    <tr>\n",
       "      <th rowspan=\"3\" valign=\"top\">77309511230</th>\n",
       "      <th>25769807370</th>\n",
       "      <td>3</td>\n",
       "      <td>3</td>\n",
       "      <td>3</td>\n",
       "      <td>3</td>\n",
       "      <td>3</td>\n",
       "    </tr>\n",
       "    <tr>\n",
       "      <th>25769860153</th>\n",
       "      <td>2</td>\n",
       "      <td>2</td>\n",
       "      <td>2</td>\n",
       "      <td>2</td>\n",
       "      <td>2</td>\n",
       "    </tr>\n",
       "    <tr>\n",
       "      <th>77309508699</th>\n",
       "      <td>3</td>\n",
       "      <td>3</td>\n",
       "      <td>3</td>\n",
       "      <td>3</td>\n",
       "      <td>3</td>\n",
       "    </tr>\n",
       "    <tr>\n",
       "      <th>77309511231</th>\n",
       "      <th>17179883600</th>\n",
       "      <td>3</td>\n",
       "      <td>3</td>\n",
       "      <td>3</td>\n",
       "      <td>3</td>\n",
       "      <td>3</td>\n",
       "    </tr>\n",
       "  </tbody>\n",
       "</table>\n",
       "<p>1552375 rows × 5 columns</p>\n",
       "</div>"
      ],
      "text/plain": [
       "                         lat1  lon1  lat2  lon2  distance_km\n",
       "ID1         ID2                                             \n",
       "0           34359774511     4     4     4     4            4\n",
       "            34359776062     4     4     4     4            4\n",
       "1           77309461461     7     7     7     7            7\n",
       "2           51539673302     4     4     4     4            4\n",
       "            68719573184     4     4     4     4            4\n",
       "...                       ...   ...   ...   ...          ...\n",
       "77309511229 77309496802     6     6     6     6            6\n",
       "77309511230 25769807370     3     3     3     3            3\n",
       "            25769860153     2     2     2     2            2\n",
       "            77309508699     3     3     3     3            3\n",
       "77309511231 17179883600     3     3     3     3            3\n",
       "\n",
       "[1552375 rows x 5 columns]"
      ]
     },
     "execution_count": 16,
     "metadata": {},
     "output_type": "execute_result"
    }
   ],
   "source": [
    "df.groupby(['ID1', 'ID2']).count()"
   ]
  },
  {
   "cell_type": "code",
   "execution_count": 12,
   "metadata": {},
   "outputs": [
    {
     "name": "stderr",
     "output_type": "stream",
     "text": [
      "25/02/25 21:14:02 WARN TaskSetManager: Stage 40 contains a task of very large size (1951 KiB). The maximum recommended task size is 1000 KiB.\n",
      "25/02/25 21:14:04 WARN TaskSetManager: Stage 41 contains a task of very large size (1951 KiB). The maximum recommended task size is 1000 KiB.\n",
      "25/02/25 21:14:08 WARN TaskSetManager: Stage 42 contains a task of very large size (1951 KiB). The maximum recommended task size is 1000 KiB.\n",
      "25/02/25 21:14:08 WARN TaskSetManager: Stage 43 contains a task of very large size (1951 KiB). The maximum recommended task size is 1000 KiB.\n",
      "                                                                                \r"
     ]
    }
   ],
   "source": [
    "df_spark = combinations_with_coords_df.toPandas()"
   ]
  },
  {
   "cell_type": "code",
   "execution_count": 5,
   "metadata": {},
   "outputs": [],
   "source": [
    "import plotly.express as px "
   ]
  },
  {
   "cell_type": "code",
   "execution_count": 6,
   "metadata": {},
   "outputs": [
    {
     "data": {
      "application/vnd.plotly.v1+json": {
       "config": {
        "plotlyServerURL": "https://plot.ly"
       },
       "data": [
        {
         "alignmentgroup": "True",
         "bingroup": "x",
         "hovertemplate": "distance_km=%{x}<br>count=%{y}<extra></extra>",
         "legendgroup": "",
         "marker": {
          "color": "#636efa",
          "pattern": {
           "shape": ""
          }
         },
         "name": "",
         "offsetgroup": "",
         "orientation": "v",
         "showlegend": false,
         "type": "histogram",
         "x": [
          9.146262287699589,
          9.146262287699589,
          9.146262287699589,
          9.146262287699589,
          9.146262287699589,
          9.146262287699589,
          9.146262287699589,
          12.734410751387866,
          12.734410751387866,
          12.734410751387866,
          12.734410751387866,
          12.734410751387866,
          12.734410751387866,
          12.734410751387866,
          35.120407964580075,
          35.120407964580075,
          34.821294344491434,
          20.18334608216732,
          30.629099111885715,
          12.755232795849214,
          12.755232795849214,
          12.755232795849214,
          12.755232795849214,
          23.33134905130984,
          23.33134905130984,
          23.33134905130984,
          23.33134905130984,
          12.71667451479673,
          12.71667451479673,
          12.71667451479673,
          12.71667451479673,
          26.16841215316184,
          17.50410665132149,
          17.50410665132149,
          17.50410665132149,
          17.50410665132149,
          5.112834590672139,
          5.112834590672139,
          5.112834590672139,
          5.112834590672139,
          18.000766564771837,
          18.000766564771837,
          18.000766564771837,
          18.000766564771837,
          22.262278366502425,
          22.262278366502425,
          6.612810625418785,
          6.612810625418785,
          6.612810625418785,
          6.612810625418785,
          24.020217019617544,
          24.020217019617544,
          24.086536334500124,
          24.086536334500124,
          18.555701340079885,
          18.555701340079885,
          18.555701340079885,
          18.555701340079885,
          23.04720271252068,
          23.04720271252068,
          36.83715538266734,
          29.478744766489132,
          29.478744766489132,
          29.478744766489132,
          29.478744766489132,
          43.7735306955557,
          43.7735306955557,
          18.59699250449823,
          18.59699250449823,
          18.59699250449823,
          18.59699250449823,
          23.04720271252068,
          23.04720271252068,
          20.443130587229316,
          20.570305381791037,
          20.570305381791037,
          20.570305381791037,
          20.570305381791037,
          20.443130587229316,
          20.443130587229316,
          20.443130587229316,
          30.298186590143843
         ],
         "xaxis": "x",
         "yaxis": "y"
        }
       ],
       "layout": {
        "barmode": "relative",
        "legend": {
         "tracegroupgap": 0
        },
        "margin": {
         "t": 60
        },
        "template": {
         "data": {
          "bar": [
           {
            "error_x": {
             "color": "#2a3f5f"
            },
            "error_y": {
             "color": "#2a3f5f"
            },
            "marker": {
             "line": {
              "color": "#E5ECF6",
              "width": 0.5
             },
             "pattern": {
              "fillmode": "overlay",
              "size": 10,
              "solidity": 0.2
             }
            },
            "type": "bar"
           }
          ],
          "barpolar": [
           {
            "marker": {
             "line": {
              "color": "#E5ECF6",
              "width": 0.5
             },
             "pattern": {
              "fillmode": "overlay",
              "size": 10,
              "solidity": 0.2
             }
            },
            "type": "barpolar"
           }
          ],
          "carpet": [
           {
            "aaxis": {
             "endlinecolor": "#2a3f5f",
             "gridcolor": "white",
             "linecolor": "white",
             "minorgridcolor": "white",
             "startlinecolor": "#2a3f5f"
            },
            "baxis": {
             "endlinecolor": "#2a3f5f",
             "gridcolor": "white",
             "linecolor": "white",
             "minorgridcolor": "white",
             "startlinecolor": "#2a3f5f"
            },
            "type": "carpet"
           }
          ],
          "choropleth": [
           {
            "colorbar": {
             "outlinewidth": 0,
             "ticks": ""
            },
            "type": "choropleth"
           }
          ],
          "contour": [
           {
            "colorbar": {
             "outlinewidth": 0,
             "ticks": ""
            },
            "colorscale": [
             [
              0,
              "#0d0887"
             ],
             [
              0.1111111111111111,
              "#46039f"
             ],
             [
              0.2222222222222222,
              "#7201a8"
             ],
             [
              0.3333333333333333,
              "#9c179e"
             ],
             [
              0.4444444444444444,
              "#bd3786"
             ],
             [
              0.5555555555555556,
              "#d8576b"
             ],
             [
              0.6666666666666666,
              "#ed7953"
             ],
             [
              0.7777777777777778,
              "#fb9f3a"
             ],
             [
              0.8888888888888888,
              "#fdca26"
             ],
             [
              1,
              "#f0f921"
             ]
            ],
            "type": "contour"
           }
          ],
          "contourcarpet": [
           {
            "colorbar": {
             "outlinewidth": 0,
             "ticks": ""
            },
            "type": "contourcarpet"
           }
          ],
          "heatmap": [
           {
            "colorbar": {
             "outlinewidth": 0,
             "ticks": ""
            },
            "colorscale": [
             [
              0,
              "#0d0887"
             ],
             [
              0.1111111111111111,
              "#46039f"
             ],
             [
              0.2222222222222222,
              "#7201a8"
             ],
             [
              0.3333333333333333,
              "#9c179e"
             ],
             [
              0.4444444444444444,
              "#bd3786"
             ],
             [
              0.5555555555555556,
              "#d8576b"
             ],
             [
              0.6666666666666666,
              "#ed7953"
             ],
             [
              0.7777777777777778,
              "#fb9f3a"
             ],
             [
              0.8888888888888888,
              "#fdca26"
             ],
             [
              1,
              "#f0f921"
             ]
            ],
            "type": "heatmap"
           }
          ],
          "heatmapgl": [
           {
            "colorbar": {
             "outlinewidth": 0,
             "ticks": ""
            },
            "colorscale": [
             [
              0,
              "#0d0887"
             ],
             [
              0.1111111111111111,
              "#46039f"
             ],
             [
              0.2222222222222222,
              "#7201a8"
             ],
             [
              0.3333333333333333,
              "#9c179e"
             ],
             [
              0.4444444444444444,
              "#bd3786"
             ],
             [
              0.5555555555555556,
              "#d8576b"
             ],
             [
              0.6666666666666666,
              "#ed7953"
             ],
             [
              0.7777777777777778,
              "#fb9f3a"
             ],
             [
              0.8888888888888888,
              "#fdca26"
             ],
             [
              1,
              "#f0f921"
             ]
            ],
            "type": "heatmapgl"
           }
          ],
          "histogram": [
           {
            "marker": {
             "pattern": {
              "fillmode": "overlay",
              "size": 10,
              "solidity": 0.2
             }
            },
            "type": "histogram"
           }
          ],
          "histogram2d": [
           {
            "colorbar": {
             "outlinewidth": 0,
             "ticks": ""
            },
            "colorscale": [
             [
              0,
              "#0d0887"
             ],
             [
              0.1111111111111111,
              "#46039f"
             ],
             [
              0.2222222222222222,
              "#7201a8"
             ],
             [
              0.3333333333333333,
              "#9c179e"
             ],
             [
              0.4444444444444444,
              "#bd3786"
             ],
             [
              0.5555555555555556,
              "#d8576b"
             ],
             [
              0.6666666666666666,
              "#ed7953"
             ],
             [
              0.7777777777777778,
              "#fb9f3a"
             ],
             [
              0.8888888888888888,
              "#fdca26"
             ],
             [
              1,
              "#f0f921"
             ]
            ],
            "type": "histogram2d"
           }
          ],
          "histogram2dcontour": [
           {
            "colorbar": {
             "outlinewidth": 0,
             "ticks": ""
            },
            "colorscale": [
             [
              0,
              "#0d0887"
             ],
             [
              0.1111111111111111,
              "#46039f"
             ],
             [
              0.2222222222222222,
              "#7201a8"
             ],
             [
              0.3333333333333333,
              "#9c179e"
             ],
             [
              0.4444444444444444,
              "#bd3786"
             ],
             [
              0.5555555555555556,
              "#d8576b"
             ],
             [
              0.6666666666666666,
              "#ed7953"
             ],
             [
              0.7777777777777778,
              "#fb9f3a"
             ],
             [
              0.8888888888888888,
              "#fdca26"
             ],
             [
              1,
              "#f0f921"
             ]
            ],
            "type": "histogram2dcontour"
           }
          ],
          "mesh3d": [
           {
            "colorbar": {
             "outlinewidth": 0,
             "ticks": ""
            },
            "type": "mesh3d"
           }
          ],
          "parcoords": [
           {
            "line": {
             "colorbar": {
              "outlinewidth": 0,
              "ticks": ""
             }
            },
            "type": "parcoords"
           }
          ],
          "pie": [
           {
            "automargin": true,
            "type": "pie"
           }
          ],
          "scatter": [
           {
            "fillpattern": {
             "fillmode": "overlay",
             "size": 10,
             "solidity": 0.2
            },
            "type": "scatter"
           }
          ],
          "scatter3d": [
           {
            "line": {
             "colorbar": {
              "outlinewidth": 0,
              "ticks": ""
             }
            },
            "marker": {
             "colorbar": {
              "outlinewidth": 0,
              "ticks": ""
             }
            },
            "type": "scatter3d"
           }
          ],
          "scattercarpet": [
           {
            "marker": {
             "colorbar": {
              "outlinewidth": 0,
              "ticks": ""
             }
            },
            "type": "scattercarpet"
           }
          ],
          "scattergeo": [
           {
            "marker": {
             "colorbar": {
              "outlinewidth": 0,
              "ticks": ""
             }
            },
            "type": "scattergeo"
           }
          ],
          "scattergl": [
           {
            "marker": {
             "colorbar": {
              "outlinewidth": 0,
              "ticks": ""
             }
            },
            "type": "scattergl"
           }
          ],
          "scattermapbox": [
           {
            "marker": {
             "colorbar": {
              "outlinewidth": 0,
              "ticks": ""
             }
            },
            "type": "scattermapbox"
           }
          ],
          "scatterpolar": [
           {
            "marker": {
             "colorbar": {
              "outlinewidth": 0,
              "ticks": ""
             }
            },
            "type": "scatterpolar"
           }
          ],
          "scatterpolargl": [
           {
            "marker": {
             "colorbar": {
              "outlinewidth": 0,
              "ticks": ""
             }
            },
            "type": "scatterpolargl"
           }
          ],
          "scatterternary": [
           {
            "marker": {
             "colorbar": {
              "outlinewidth": 0,
              "ticks": ""
             }
            },
            "type": "scatterternary"
           }
          ],
          "surface": [
           {
            "colorbar": {
             "outlinewidth": 0,
             "ticks": ""
            },
            "colorscale": [
             [
              0,
              "#0d0887"
             ],
             [
              0.1111111111111111,
              "#46039f"
             ],
             [
              0.2222222222222222,
              "#7201a8"
             ],
             [
              0.3333333333333333,
              "#9c179e"
             ],
             [
              0.4444444444444444,
              "#bd3786"
             ],
             [
              0.5555555555555556,
              "#d8576b"
             ],
             [
              0.6666666666666666,
              "#ed7953"
             ],
             [
              0.7777777777777778,
              "#fb9f3a"
             ],
             [
              0.8888888888888888,
              "#fdca26"
             ],
             [
              1,
              "#f0f921"
             ]
            ],
            "type": "surface"
           }
          ],
          "table": [
           {
            "cells": {
             "fill": {
              "color": "#EBF0F8"
             },
             "line": {
              "color": "white"
             }
            },
            "header": {
             "fill": {
              "color": "#C8D4E3"
             },
             "line": {
              "color": "white"
             }
            },
            "type": "table"
           }
          ]
         },
         "layout": {
          "annotationdefaults": {
           "arrowcolor": "#2a3f5f",
           "arrowhead": 0,
           "arrowwidth": 1
          },
          "autotypenumbers": "strict",
          "coloraxis": {
           "colorbar": {
            "outlinewidth": 0,
            "ticks": ""
           }
          },
          "colorscale": {
           "diverging": [
            [
             0,
             "#8e0152"
            ],
            [
             0.1,
             "#c51b7d"
            ],
            [
             0.2,
             "#de77ae"
            ],
            [
             0.3,
             "#f1b6da"
            ],
            [
             0.4,
             "#fde0ef"
            ],
            [
             0.5,
             "#f7f7f7"
            ],
            [
             0.6,
             "#e6f5d0"
            ],
            [
             0.7,
             "#b8e186"
            ],
            [
             0.8,
             "#7fbc41"
            ],
            [
             0.9,
             "#4d9221"
            ],
            [
             1,
             "#276419"
            ]
           ],
           "sequential": [
            [
             0,
             "#0d0887"
            ],
            [
             0.1111111111111111,
             "#46039f"
            ],
            [
             0.2222222222222222,
             "#7201a8"
            ],
            [
             0.3333333333333333,
             "#9c179e"
            ],
            [
             0.4444444444444444,
             "#bd3786"
            ],
            [
             0.5555555555555556,
             "#d8576b"
            ],
            [
             0.6666666666666666,
             "#ed7953"
            ],
            [
             0.7777777777777778,
             "#fb9f3a"
            ],
            [
             0.8888888888888888,
             "#fdca26"
            ],
            [
             1,
             "#f0f921"
            ]
           ],
           "sequentialminus": [
            [
             0,
             "#0d0887"
            ],
            [
             0.1111111111111111,
             "#46039f"
            ],
            [
             0.2222222222222222,
             "#7201a8"
            ],
            [
             0.3333333333333333,
             "#9c179e"
            ],
            [
             0.4444444444444444,
             "#bd3786"
            ],
            [
             0.5555555555555556,
             "#d8576b"
            ],
            [
             0.6666666666666666,
             "#ed7953"
            ],
            [
             0.7777777777777778,
             "#fb9f3a"
            ],
            [
             0.8888888888888888,
             "#fdca26"
            ],
            [
             1,
             "#f0f921"
            ]
           ]
          },
          "colorway": [
           "#636efa",
           "#EF553B",
           "#00cc96",
           "#ab63fa",
           "#FFA15A",
           "#19d3f3",
           "#FF6692",
           "#B6E880",
           "#FF97FF",
           "#FECB52"
          ],
          "font": {
           "color": "#2a3f5f"
          },
          "geo": {
           "bgcolor": "white",
           "lakecolor": "white",
           "landcolor": "#E5ECF6",
           "showlakes": true,
           "showland": true,
           "subunitcolor": "white"
          },
          "hoverlabel": {
           "align": "left"
          },
          "hovermode": "closest",
          "mapbox": {
           "style": "light"
          },
          "paper_bgcolor": "white",
          "plot_bgcolor": "#E5ECF6",
          "polar": {
           "angularaxis": {
            "gridcolor": "white",
            "linecolor": "white",
            "ticks": ""
           },
           "bgcolor": "#E5ECF6",
           "radialaxis": {
            "gridcolor": "white",
            "linecolor": "white",
            "ticks": ""
           }
          },
          "scene": {
           "xaxis": {
            "backgroundcolor": "#E5ECF6",
            "gridcolor": "white",
            "gridwidth": 2,
            "linecolor": "white",
            "showbackground": true,
            "ticks": "",
            "zerolinecolor": "white"
           },
           "yaxis": {
            "backgroundcolor": "#E5ECF6",
            "gridcolor": "white",
            "gridwidth": 2,
            "linecolor": "white",
            "showbackground": true,
            "ticks": "",
            "zerolinecolor": "white"
           },
           "zaxis": {
            "backgroundcolor": "#E5ECF6",
            "gridcolor": "white",
            "gridwidth": 2,
            "linecolor": "white",
            "showbackground": true,
            "ticks": "",
            "zerolinecolor": "white"
           }
          },
          "shapedefaults": {
           "line": {
            "color": "#2a3f5f"
           }
          },
          "ternary": {
           "aaxis": {
            "gridcolor": "white",
            "linecolor": "white",
            "ticks": ""
           },
           "baxis": {
            "gridcolor": "white",
            "linecolor": "white",
            "ticks": ""
           },
           "bgcolor": "#E5ECF6",
           "caxis": {
            "gridcolor": "white",
            "linecolor": "white",
            "ticks": ""
           }
          },
          "title": {
           "x": 0.05
          },
          "xaxis": {
           "automargin": true,
           "gridcolor": "white",
           "linecolor": "white",
           "ticks": "",
           "title": {
            "standoff": 15
           },
           "zerolinecolor": "white",
           "zerolinewidth": 2
          },
          "yaxis": {
           "automargin": true,
           "gridcolor": "white",
           "linecolor": "white",
           "ticks": "",
           "title": {
            "standoff": 15
           },
           "zerolinecolor": "white",
           "zerolinewidth": 2
          }
         }
        },
        "xaxis": {
         "anchor": "y",
         "domain": [
          0,
          1
         ],
         "title": {
          "text": "distance_km"
         }
        },
        "yaxis": {
         "anchor": "x",
         "domain": [
          0,
          1
         ],
         "title": {
          "text": "count"
         }
        }
       }
      }
     },
     "metadata": {},
     "output_type": "display_data"
    }
   ],
   "source": [
    "px.histogram(df, x = 'distance_km')"
   ]
  },
  {
   "cell_type": "code",
   "execution_count": 25,
   "metadata": {},
   "outputs": [
    {
     "name": "stdout",
     "output_type": "stream",
     "text": [
      "+------------------+-----------------+---------------+--------------------+\n",
      "|          latitude|        longitude|       h3_index|       h3_neighbours|\n",
      "+------------------+-----------------+---------------+--------------------+\n",
      "|50.843179677131126|4.398299691722763|891fa44e69bffff|[891fa44e69bffff,...|\n",
      "|50.830293351691324|4.281895732206881|891fa44134bffff|[891fa44134bffff,...|\n",
      "| 50.89328489172853| 4.30124550560784|891fa440607ffff|[891fa440607ffff,...|\n",
      "| 50.87738152420777|4.250578511597902|891fa441497ffff|[891fa441497ffff,...|\n",
      "| 50.82143090662322|4.305432395662898|891fa44ad57ffff|[891fa44ad57ffff,...|\n",
      "| 50.84476970807411|4.343533754090476|891fa441853ffff|[891fa441853ffff,...|\n",
      "|50.899389345798184|4.292722718417278|891fa440683ffff|[891fa440683ffff,...|\n",
      "|  50.7610585766942|4.358594565497318|891fa448907ffff|[891fa448907ffff,...|\n",
      "| 50.80388274752319|4.271307419948896|891fa44aeabffff|[891fa44aeabffff,...|\n",
      "| 50.84073518235208|4.344546229450199|891fa44185bffff|[891fa44185bffff,...|\n",
      "|50.823735028902576|4.332266998132461|891fa441a53ffff|[891fa441a53ffff,...|\n",
      "|50.856942714638045|4.392868425613837|891fa4419bbffff|[891fa4419bbffff,...|\n",
      "|  50.8905864672917|4.389723185441949|891fa440eabffff|[891fa440eabffff,...|\n",
      "| 50.85114100283643|4.351134720033803|891fa44188bffff|[891fa44188bffff,...|\n",
      "| 50.85525179901462|4.278575888483486|891fa441033ffff|[891fa441033ffff,...|\n",
      "| 50.75128435025145|4.317390489325073|891fa448857ffff|[891fa448857ffff,...|\n",
      "|50.827018231593755|4.317002982071541|891fa44adabffff|[891fa44adabffff,...|\n",
      "| 50.83621982827189|4.305587328016919|891fa44132fffff|[891fa44132fffff,...|\n",
      "| 50.86792750527571|4.371588139606034|891fa441d07ffff|[891fa441d07ffff,...|\n",
      "| 50.84660579173515|4.266957110954843|891fa441047ffff|[891fa441047ffff,...|\n",
      "+------------------+-----------------+---------------+--------------------+\n",
      "only showing top 20 rows\n",
      "\n"
     ]
    }
   ],
   "source": [
    "coordinates_df.show()"
   ]
  },
  {
   "cell_type": "code",
   "execution_count": null,
   "metadata": {},
   "outputs": [
    {
     "ename": "",
     "evalue": "",
     "output_type": "error",
     "traceback": [
      "\u001b[1;31mRunning cells with '.conda (Python 3.12.9)' requires the ipykernel package.\n",
      "\u001b[1;31mRun the following command to install 'ipykernel' into the Python environment. \n",
      "\u001b[1;31mCommand: 'conda install -n .conda ipykernel --update-deps --force-reinstall'"
     ]
    }
   ],
   "source": [
    "!conda install -n .conda ipykernel --update-deps --force-reinstall"
   ]
  },
  {
   "cell_type": "code",
   "execution_count": null,
   "metadata": {},
   "outputs": [],
   "source": []
  }
 ],
 "metadata": {
  "kernelspec": {
   "display_name": "traffic",
   "language": "python",
   "name": "python3"
  },
  "language_info": {
   "codemirror_mode": {
    "name": "ipython",
    "version": 3
   },
   "file_extension": ".py",
   "mimetype": "text/x-python",
   "name": "python",
   "nbconvert_exporter": "python",
   "pygments_lexer": "ipython3",
   "version": "3.10.15"
  }
 },
 "nbformat": 4,
 "nbformat_minor": 2
}
