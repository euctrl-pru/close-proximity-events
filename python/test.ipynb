{
 "cells": [
  {
   "cell_type": "code",
   "execution_count": null,
   "metadata": {},
   "outputs": [
    {
     "data": {
      "text/plain": [
       "np.float64(28.15648239008218)"
      ]
     },
     "execution_count": 14,
     "metadata": {},
     "output_type": "execute_result"
    }
   ],
   "source": [
    "from helpers import *\n",
    "import numpy as np\n",
    "10.837435124897937*3/2*np.sqrt(3)"
   ]
  },
  {
   "cell_type": "code",
   "execution_count": 1,
   "metadata": {},
   "outputs": [
    {
     "name": "stderr",
     "output_type": "stream",
     "text": [
      "25/05/07 15:15:54 WARN Utils: Your hostname, Quintens-Laptop.local resolves to a loopback address: 127.0.0.1; using 10.130.77.145 instead (on interface en0)\n",
      "25/05/07 15:15:54 WARN Utils: Set SPARK_LOCAL_IP if you need to bind to another address\n",
      "Setting default log level to \"WARN\".\n",
      "To adjust logging level use sc.setLogLevel(newLevel). For SparkR, use setLogLevel(newLevel).\n",
      "25/05/07 15:15:54 WARN NativeCodeLoader: Unable to load native-hadoop library for your platform... using builtin-java classes where applicable\n"
     ]
    },
    {
     "name": "stdout",
     "output_type": "stream",
     "text": [
      "The selected resolution for a distance of 5 NM is: 5\n"
     ]
    }
   ],
   "source": [
    "# -----------------------------------------------------------------------------\n",
    "# Imports\n",
    "# -----------------------------------------------------------------------------\n",
    "\n",
    "# PySpark libraries\n",
    "from pyspark.sql import SparkSession\n",
    "import pyspark.sql.functions as F\n",
    "from pyspark.sql.functions import (\n",
    "    udf, col, explode, radians,\n",
    "    sin, cos, sqrt, atan2, lit, monotonically_increasing_id\n",
    ")\n",
    "from pyspark.sql.types import (\n",
    "    StringType, ArrayType )\n",
    "from pyspark.sql import Window\n",
    "from tempo import *\n",
    "\n",
    "# Data libraries\n",
    "import h3\n",
    "import pandas as pd\n",
    "import numpy as np\n",
    "from datetime import datetime\n",
    "\n",
    "# Custom libraries\n",
    "from helpers import select_resolution\n",
    "\n",
    "# -----------------------------------------------------------------------------\n",
    "# Spark Configuration\n",
    "# -----------------------------------------------------------------------------\n",
    "spark = SparkSession.builder \\\n",
    "    .appName(\"CloseEncountersH3\") \\\n",
    "    .config(\"spark.driver.memory\", \"12g\") \\\n",
    "    .config(\"spark.executor.memory\", \"10g\") \\\n",
    "    .config(\"spark.rpc.message.maxSize\", 1028) \\\n",
    "    .getOrCreate()\n",
    "\n",
    "# -----------------------------------------------------------------------------\n",
    "# Close encounter parameters\n",
    "# -----------------------------------------------------------------------------\n",
    "# Minimal horizontal distance before close encounter (NM)\n",
    "distance_nm = 5\n",
    "\n",
    "# Minimal vertical distance before close encounter (flight levels - FL)\n",
    "FL_diff = 9\n",
    "\n",
    "# The minimum flight level for assessment of the trajectory (lower sections are not analyzed)\n",
    "FL_min = 250\n",
    "\n",
    "# The maximum period we should interpolate in case of missing state-vectors (deltaT in minutes)\n",
    "deltaT_min = 10\n",
    "\n",
    "# -----------------------------------------------------------------------------\n",
    "# Default / Automatic parameters\n",
    "# -----------------------------------------------------------------------------\n",
    "resolution = select_resolution(distance_nm)\n",
    "earth_radius_km = 6378\n",
    "print(f\"The selected resolution for a distance of {distance_nm} NM is: {resolution}\")\n"
   ]
  },
  {
   "cell_type": "code",
   "execution_count": 2,
   "metadata": {},
   "outputs": [
    {
     "name": "stdout",
     "output_type": "stream",
     "text": [
      "Number of rows as input: (296944, 5)\n"
     ]
    },
    {
     "name": "stderr",
     "output_type": "stream",
     "text": [
      "25/05/07 15:16:05 WARN TaskSetManager: Stage 0 contains a task of very large size (1401 KiB). The maximum recommended task size is 1000 KiB.\n",
      "25/05/07 15:16:06 WARN TaskSetManager: Stage 6 contains a task of very large size (1401 KiB). The maximum recommended task size is 1000 KiB.\n",
      "/Users/quintengoens/Repos/close-encounters/.conda/lib/python3.12/site-packages/tempo/utils.py:122: ResampleWarning: \n",
      "            Resample Metrics Warning:\n",
      "                Earliest Timestamp: 2024-07-01 12:00:00\n",
      "                Latest Timestamp: 2024-07-01 13:00:00\n",
      "                No. of Unique Partitions: 4243\n",
      "                Resampled Min No. Values in Single a Partition: 1.0\n",
      "                Resampled Max No. Values in Single a Partition: 721.0\n",
      "                Resampled P25 No. Values in Single a Partition: 230.0\n",
      "                Resampled P50 No. Values in Single a Partition: 496.0\n",
      "                Resampled P75 No. Values in Single a Partition: 712.0\n",
      "                Resampled Total No. Values Across All Partitions: 1931331.0\n",
      "        \n",
      "  warnings.warn(\n",
      "25/05/07 15:16:07 WARN TaskSetManager: Stage 12 contains a task of very large size (1401 KiB). The maximum recommended task size is 1000 KiB.\n"
     ]
    },
    {
     "name": "stdout",
     "output_type": "stream",
     "text": [
      "Number of rows after resamplin and interpolating: 1931331\n"
     ]
    },
    {
     "name": "stderr",
     "output_type": "stream",
     "text": [
      "25/05/07 15:16:09 WARN TaskSetManager: Stage 27 contains a task of very large size (1401 KiB). The maximum recommended task size is 1000 KiB.\n",
      "                                                                                \r"
     ]
    },
    {
     "data": {
      "text/plain": [
       "1913376"
      ]
     },
     "execution_count": 2,
     "metadata": {},
     "output_type": "execute_result"
    }
   ],
   "source": [
    "# -----------------------------------------------------------------------------\n",
    "# Load and Filter Data\n",
    "# -----------------------------------------------------------------------------\n",
    "coords_df = pd.read_parquet('~/Repos/close-encounters/data/flight_profiles_cpf_20240701_filtered.parquet')\n",
    "f = np.logical_and(coords_df.TIME_OVER >= datetime(2024,7,1,12,0,0), coords_df.TIME_OVER<= datetime(2024,7,1,13,0,0))\n",
    "coords_df = coords_df[f]\n",
    "coords_df = coords_df[coords_df.FLIGHT_LEVEL > FL_min]\n",
    "coords_df = coords_df[['FLIGHT_ID', 'LONGITUDE', 'LATITUDE', 'TIME_OVER', 'FLIGHT_LEVEL']].rename(\n",
    "    columns={\n",
    "        'LATITUDE': 'latitude', \n",
    "        'LONGITUDE': 'longitude'\n",
    "        }\n",
    "    )\n",
    "coords_df.columns = [x.lower() for x in coords_df.columns]\n",
    "\n",
    "print(f\"Number of rows as input: {coords_df.shape}\")\n",
    "coords_df = spark.createDataFrame(coords_df)\n",
    "\n",
    "# -----------------------------------------------------------------------------\n",
    "# Resample and interpolate\n",
    "# -----------------------------------------------------------------------------\n",
    "\n",
    "coords_df = TSDF(coords_df, ts_col=\"time_over\", partition_cols = [\"flight_id\"])\n",
    "coords_df = coords_df.resample(freq=\"5 sec\", func=\"mean\").interpolate(method='linear', freq=\"5 sec\", show_interpolated = True).df\n",
    "coords_df = coords_df.repartition(100, [\"flight_id\"])\n",
    "print(f\"Number of rows after resamplin and interpolating: {coords_df.count()}\")\n",
    "\n",
    "# -----------------------------------------------------------------------------\n",
    "# Delete resampled periods which are longer than DeltaT = 10 min\n",
    "# -----------------------------------------------------------------------------\n",
    "\n",
    "# Define a window partitioned by flight and segment and ordered by time\n",
    "w = Window.partitionBy(\"flight_id\").orderBy(\"time_over\")\n",
    "\n",
    "# Flag changes in interpolation status (start of new group)\n",
    "coords_df = coords_df.withColumn(\n",
    "    \"interpolation_group_change\",\n",
    "    (F.col(\"is_ts_interpolated\") != F.lag(\"is_ts_interpolated\", 1).over(w)).cast(\"int\")\n",
    ")\n",
    "\n",
    "# Fill nulls in the first row with 1 (new group)\n",
    "coords_df = coords_df.withColumn(\n",
    "    \"interpolation_group_change\",\n",
    "    F.when(F.col(\"interpolation_group_change\").isNull(), 1).otherwise(F.col(\"interpolation_group_change\"))\n",
    ")\n",
    "\n",
    "# Create a cumulative sum over the changes to assign group IDs\n",
    "coords_df = coords_df.withColumn(\n",
    "    \"interpolation_group_id\",\n",
    "    F.sum(\"interpolation_group_change\").over(w)\n",
    ")\n",
    "\n",
    "# Add min and max timestamp per interpolation group\n",
    "group_window = Window.partitionBy(\"flight_id\", \"interpolation_group_id\")\n",
    "\n",
    "coords_df = coords_df.withColumn(\"group_start_time\", F.min(\"time_over\").over(group_window))\n",
    "coords_df = coords_df.withColumn(\"group_end_time\", F.max(\"time_over\").over(group_window))\n",
    "\n",
    "# Calculate duration in seconds for each interpolation group\n",
    "coords_df = coords_df.withColumn(\n",
    "    \"interpolation_group_duration_sec\",\n",
    "    F.col(\"group_end_time\").cast(\"long\") - F.col(\"group_start_time\").cast(\"long\")\n",
    ")\n",
    "\n",
    "# Filter logic:\n",
    "# - If not interpolated, keep\n",
    "# - If interpolated, keep only if group duration <= deltaT_min * 60 seconds\n",
    "coords_df = coords_df.filter(\n",
    "    (~F.col(\"is_ts_interpolated\")) |\n",
    "    ((F.col(\"is_ts_interpolated\")) & (F.col(\"interpolation_group_duration_sec\") <= deltaT_min*60))\n",
    ")\n",
    "\n",
    "# Drop helper columns\n",
    "coords_df = coords_df.drop(\"interpolation_group_change\", \"interpolation_group_id\",\n",
    "                           \"group_start_time\", \"group_end_time\", \"interpolation_group_duration_sec\")\n",
    "\n",
    "# Add a segment ID\n",
    "coords_df = coords_df.withColumn(\"segment_id\", monotonically_increasing_id())\n",
    "coords_df = coords_df.repartition(100, [\"flight_id\", \"segment_id\"])\n",
    "\n",
    "#coords_df = coords_df.filter(col('time_over')==datetime(2024,7,1,12,1,0))\n",
    "coords_df.cache()\n",
    "coords_df.count()"
   ]
  },
  {
   "cell_type": "code",
   "execution_count": 3,
   "metadata": {},
   "outputs": [],
   "source": [
    "# -----------------------------------------------------------------------------\n",
    "# Define UDFs for H3\n",
    "# -----------------------------------------------------------------------------\n",
    "def lat_lon_to_h3(lat, lon, resolution):\n",
    "    return h3.latlng_to_cell(lat, lon, resolution)\n",
    "\n",
    "def grid_disk_k1(cell):\n",
    "    return h3.grid_disk(cell, k=1)\n",
    "\n",
    "lat_lon_to_h3_udf = udf(lat_lon_to_h3, StringType())\n",
    "grid_disk_k1_udf = udf(grid_disk_k1, ArrayType(StringType()))\n",
    "\n",
    "# Add H3 index and neighbors\n",
    "coords_df = coords_df.withColumn(\"h3_index\", lat_lon_to_h3_udf(col(\"latitude\"), col(\"longitude\"), lit(resolution)))\n",
    "coords_df = coords_df.withColumn(\"h3_neighbours\", grid_disk_k1_udf(col(\"h3_index\")))\n"
   ]
  },
  {
   "cell_type": "code",
   "execution_count": 4,
   "metadata": {},
   "outputs": [
    {
     "name": "stderr",
     "output_type": "stream",
     "text": [
      "25/05/07 15:16:13 WARN GarbageCollectionMetrics: To enable non-built-in garbage collector(s) List(G1 Concurrent GC), users should configure it(them) to spark.eventLog.gcMetrics.youngGenerationGarbageCollectors or spark.eventLog.gcMetrics.oldGenerationGarbageCollectors\n",
      "                                                                                \r"
     ]
    },
    {
     "name": "stdout",
     "output_type": "stream",
     "text": [
      "+-------------------+-----------------+------------------+-------------------+------------+------------------+----------------------------+------------------------+-------------------------+----------+---------------+--------------------+\n",
      "|          time_over|     flight_level|          latitude|          longitude|   flight_id|is_ts_interpolated|is_interpolated_flight_level|is_interpolated_latitude|is_interpolated_longitude|segment_id|       h3_index|       h3_neighbours|\n",
      "+-------------------+-----------------+------------------+-------------------+------------+------------------+----------------------------+------------------------+-------------------------+----------+---------------+--------------------+\n",
      "|2024-07-01 12:21:50|            370.0| 39.75847222222221|  63.84916666666666|2.73696721E8|              true|                        true|                    true|                     true|       257|85219c6ffffffff|[85219c6ffffffff,...|\n",
      "|2024-07-01 12:24:40|            370.0| 39.69796296296296|  64.46972222222222|2.73696721E8|              true|                        true|                    true|                     true|       291|85219803fffffff|[85219803fffffff,...|\n",
      "|2024-07-01 12:33:05|            370.0| 39.49938271604938|   66.2844135802469|2.73696721E8|              true|                        true|                    true|                     true|       392|85219ba7fffffff|[85219ba7fffffff,...|\n",
      "|2024-07-01 12:47:55|            370.0|39.017847222222215|  69.39729166666666|2.73696721E8|              true|                        true|                    true|                     true|       570|85208497fffffff|[85208497fffffff,...|\n",
      "|2024-07-01 12:53:00|            370.0| 38.82194444444443|   70.4336111111111|2.73696721E8|             false|                       false|                   false|                    false|       631|852085cbfffffff|[852085cbfffffff,...|\n",
      "|2024-07-01 12:58:00|            370.0|38.379444444444445|   71.2886111111111|2.73696721E8|              true|                        true|                    true|                     true|       691|852080b7fffffff|[852080b7fffffff,...|\n",
      "|2024-07-01 12:05:50|            350.0|31.967993827160488|  46.48722222222221|2.73696942E8|              true|                        true|                    true|                     true|       773|852c80cffffffff|[852c80cffffffff,...|\n",
      "|2024-07-01 12:09:10|            350.0| 31.60270833333333|  46.81815972222222|2.73696942E8|              true|                        true|                    true|                     true|       813|852c804bfffffff|[852c804bfffffff,...|\n",
      "|2024-07-01 12:34:35|            350.0|28.810384615384606| 49.108717948717945|2.73696942E8|              true|                        true|                    true|                     true|      1118|855364abfffffff|[855364abfffffff,...|\n",
      "|2024-07-01 12:37:50|346.6666666666667|28.432469135802464|  49.36188271604937|2.73696942E8|              true|                        true|                    true|                     true|      1157|8553642ffffffff|[8553642ffffffff,...|\n",
      "|2024-07-01 12:38:40|            337.0|28.344444444444434|  49.44874999999999|2.73696942E8|              true|                        true|                    true|                     true|      1167|8553655bfffffff|[8553655bfffffff,...|\n",
      "|2024-07-01 12:02:45|            350.0| 73.74092592592592|-19.549598765432098|2.73697011E8|              true|                        true|                    true|                     true|      1366|8507ad03fffffff|[8507ad03fffffff,...|\n",
      "|2024-07-01 12:09:35|            370.0| 72.95381944444443|-18.269305555555547|2.73697011E8|              true|                        true|                    true|                     true|      1448|85071e77fffffff|[85071e77fffffff,...|\n",
      "|2024-07-01 12:27:20|            370.0| 70.86685185185185|-15.414722222222217|2.73697011E8|              true|                        true|                    true|                     true|      1661|85071d97fffffff|[85071d97fffffff,...|\n",
      "|2024-07-01 12:48:20|            370.0| 68.36679012345678|-12.745154320987652|2.73697011E8|              true|                        true|                    true|                     true|      1913|85072b2bfffffff|[85072b2bfffffff,...|\n",
      "|2024-07-01 12:01:25|            410.0|52.073968253968246| 16.803412698412693|2.73697115E8|              true|                        true|                    true|                     true|      2067|851e243bfffffff|[851e243bfffffff,...|\n",
      "|2024-07-01 12:11:35|            410.0| 51.01769841269841| 18.221904761904753|2.73697115E8|              true|                        true|                    true|                     true|      2189|851e2397fffffff|[851e2397fffffff,...|\n",
      "|2024-07-01 12:11:50|            410.0| 50.99305555555555|  18.25416666666666|2.73697115E8|             false|                       false|                   false|                    false|      2192|851e2397fffffff|[851e2397fffffff,...|\n",
      "|2024-07-01 12:14:40|            410.0|50.702857142857134| 18.633253968253964|2.73697115E8|              true|                        true|                    true|                     true|      2226|851e23abfffffff|[851e23abfffffff,...|\n",
      "|2024-07-01 12:19:00|            410.0|50.249513888888885| 19.207291666666663|2.73697115E8|              true|                        true|                    true|                     true|      2278|851e2e5bfffffff|[851e2e5bfffffff,...|\n",
      "+-------------------+-----------------+------------------+-------------------+------------+------------------+----------------------------+------------------------+-------------------------+----------+---------------+--------------------+\n",
      "only showing top 20 rows\n",
      "\n"
     ]
    }
   ],
   "source": [
    "coords_df.show()"
   ]
  },
  {
   "cell_type": "code",
   "execution_count": 5,
   "metadata": {},
   "outputs": [],
   "source": [
    "# -----------------------------------------------------------------------------\n",
    "# Explode neighbors and group by h3_neighbour to collect IDs when there's multiple FLIGHT_ID in a cell\n",
    "# -----------------------------------------------------------------------------\n",
    "exploded_df = coords_df.withColumn(\"h3_neighbour\", explode(col(\"h3_neighbours\")))\n",
    "\n",
    "grouped_df = (exploded_df.groupBy([\"time_over\", \"h3_neighbour\"])\n",
    "              .agg(F.countDistinct(\"flight_id\").alias(\"flight_count\"),\n",
    "                   F.collect_list(\"segment_id\").alias(\"id_list\"))\n",
    "              .filter(F.col(\"flight_count\") > 1)\n",
    "              .drop(\"flight_count\"))\n",
    "\n",
    "grouped_df = grouped_df.filter(F.size(\"id_list\") > 1)"
   ]
  },
  {
   "cell_type": "code",
   "execution_count": 6,
   "metadata": {},
   "outputs": [],
   "source": [
    "# -----------------------------------------------------------------------------\n",
    "# Create pairwise combinations using self-join on indexed exploded DataFrame\n",
    "# -----------------------------------------------------------------------------\n",
    "# Explode id_list to individual rows and add index within each h3 group\n",
    "df_exploded = grouped_df.withColumn(\"segment_id\", explode(\"id_list\")).drop('id_list')\n",
    "window_spec = Window.partitionBy([\"time_over\",\"h3_neighbour\"]).orderBy(\"segment_id\")\n",
    "df_indexed = df_exploded.withColumn(\"idx\", F.row_number().over(window_spec))\n",
    "\n",
    "# Self-join to form unique unordered ID pairs\n",
    "df_pairs = (\n",
    "    df_indexed.alias(\"df1\")\n",
    "    .join(\n",
    "        df_indexed.alias(\"df2\"),\n",
    "        (F.col(\"df1.time_over\") == F.col(\"df2.time_over\")) &\n",
    "        (F.col(\"df1.h3_neighbour\") == F.col(\"df2.h3_neighbour\")) &\n",
    "        (F.col(\"df1.idx\") < F.col(\"df2.idx\"))\n",
    "    )\n",
    "    .select(\n",
    "        F.col(\"df1.time_over\").alias(\"time_over\"),\n",
    "        F.col(\"df1.h3_neighbour\").alias(\"h3_group\"),\n",
    "        F.col(\"df1.segment_id\").alias(\"ID1\"),\n",
    "        F.col(\"df2.segment_id\").alias(\"ID2\")\n",
    "    )\n",
    ")"
   ]
  },
  {
   "cell_type": "code",
   "execution_count": 7,
   "metadata": {},
   "outputs": [],
   "source": [
    "# -----------------------------------------------------------------------------\n",
    "# Clean Pairs, Create Unique Pair ID\n",
    "# -----------------------------------------------------------------------------\n",
    "df_pairs = df_pairs.filter(col(\"ID1\") != col(\"ID2\")) # should not be necessary as we join on < not <=\n",
    "df_pairs = df_pairs.withColumn(\n",
    "    \"ID\",\n",
    "    F.concat_ws(\"_\", F.array_sort(F.array(col(\"ID1\"), col(\"ID2\"))))\n",
    ")"
   ]
  },
  {
   "cell_type": "code",
   "execution_count": 8,
   "metadata": {},
   "outputs": [
    {
     "name": "stderr",
     "output_type": "stream",
     "text": [
      "                                                                                \r"
     ]
    },
    {
     "name": "stdout",
     "output_type": "stream",
     "text": [
      "Number of pairs (raw): 1552574\n"
     ]
    },
    {
     "name": "stderr",
     "output_type": "stream",
     "text": [
      "                                                                                \r"
     ]
    },
    {
     "name": "stdout",
     "output_type": "stream",
     "text": [
      "Number of pairs after time filter 1552574\n",
      "Number of pairs after FL filter 149922\n"
     ]
    },
    {
     "name": "stderr",
     "output_type": "stream",
     "text": [
      "25/05/07 15:16:56 WARN CacheManager: Asked to cache already cached data.\n"
     ]
    },
    {
     "name": "stdout",
     "output_type": "stream",
     "text": [
      "Number of unique ID pairs: 247\n"
     ]
    }
   ],
   "source": [
    "# Define a window partitioned by ID, ordering arbitrarily (or by some column if needed)\n",
    "window_spec = Window.partitionBy(\"ID\").orderBy(F.monotonically_increasing_id())\n",
    "\n",
    "# Add row number to each partition\n",
    "df_pairs = df_pairs.withColumn(\"row_num\", F.row_number().over(window_spec))\n",
    "\n",
    "# Keep only the first row per ID\n",
    "df_pairs = df_pairs.filter(F.col(\"row_num\") == 1).drop(\"row_num\")\n",
    "\n",
    "# -----------------------------------------------------------------------------\n",
    "# Join with Original Coordinates for Each ID\n",
    "# -----------------------------------------------------------------------------\n",
    "coords_sdf1 = coords_df.withColumnRenamed(\"segment_id\", \"ID1\") \\\n",
    "    .withColumnRenamed(\"latitude\", \"lat1\") \\\n",
    "    .withColumnRenamed(\"longitude\", \"lon1\") \\\n",
    "    .withColumnRenamed(\"time_over\", \"time1\") \\\n",
    "    .withColumnRenamed(\"flight_level\", 'flight_lvl1') \\\n",
    "    .withColumnRenamed(\"flight_id\", \"flight_id1\") \\\n",
    "    .select(\"ID1\", \"lat1\", \"lon1\", \"time1\", \"flight_lvl1\", \"flight_id1\")\n",
    "\n",
    "coords_sdf2 = coords_df.withColumnRenamed(\"segment_id\", \"ID2\") \\\n",
    "    .withColumnRenamed(\"latitude\", \"lat2\") \\\n",
    "    .withColumnRenamed(\"longitude\", \"lon2\") \\\n",
    "    .withColumnRenamed(\"time_over\", \"time2\") \\\n",
    "    .withColumnRenamed(\"flight_level\", 'flight_lvl2') \\\n",
    "    .withColumnRenamed(\"flight_id\", \"flight_id2\") \\\n",
    "    .select(\"ID2\", \"lat2\", \"lon2\", \"time2\", \"flight_lvl2\", \"flight_id2\")\n",
    "\n",
    "coords_sdf1 = coords_sdf1.repartition(100, \"ID1\")\n",
    "coords_sdf2 = coords_sdf2.repartition(100, \"ID2\")\n",
    "\n",
    "df_pairs = df_pairs.join(coords_sdf1, on=\"ID1\", how=\"left\")\n",
    "df_pairs = df_pairs.join(coords_sdf2, on=\"ID2\", how=\"left\")\n",
    "df_pairs.cache()\n",
    "print(f\"Number of pairs (raw): {df_pairs.count()}\")\n",
    "# -----------------------------------------------------------------------------\n",
    "# Calculate and filter based on time differense (s)\n",
    "# -----------------------------------------------------------------------------\n",
    "df_pairs = df_pairs.withColumn('time_diff_s', F.unix_timestamp(F.col(\"time1\")) - F.unix_timestamp(F.col(\"time2\")))\n",
    "df_pairs = df_pairs.filter(F.abs(F.col('time_diff_s')) == 0)\n",
    "df_pairs.cache()\n",
    "print(f\"Number of pairs after time filter {df_pairs.count()}\")\n",
    "# -----------------------------------------------------------------------------\n",
    "# Calculate and filter based on height differense (s)\n",
    "# -----------------------------------------------------------------------------\n",
    "df_pairs = df_pairs.withColumn('FL_diff', F.col(\"flight_lvl1\") - F.col(\"flight_lvl2\"))\n",
    "df_pairs = df_pairs.filter(F.abs(F.col('FL_diff')) < lit(FL_diff))\n",
    "df_pairs.cache()\n",
    "print(f\"Number of pairs after FL filter {df_pairs.count()}\")\n",
    "\n",
    "# -----------------------------------------------------------------------------\n",
    "# Calulate and filter based on distance (km)\n",
    "# -----------------------------------------------------------------------------\n",
    "df_pairs.cache()\n",
    "df_pairs = df_pairs.withColumn(\n",
    "    \"distance_nm\",\n",
    "    0.539957 * 2 * earth_radius_km * atan2(\n",
    "        sqrt(\n",
    "            (sin(radians(col(\"lat2\")) - radians(col(\"lat1\"))) / 2)**2 +\n",
    "            cos(radians(col(\"lat1\"))) * cos(radians(col(\"lat2\"))) *\n",
    "            (sin(radians(col(\"lon2\")) - radians(col(\"lon1\"))) / 2)**2\n",
    "        ),\n",
    "        sqrt(1 - (\n",
    "            (sin(radians(col(\"lat2\")) - radians(col(\"lat1\"))) / 2)**2 +\n",
    "            cos(radians(col(\"lat1\"))) * cos(radians(col(\"lat2\"))) *\n",
    "            (sin(radians(col(\"lon2\")) - radians(col(\"lon1\"))) / 2)**2\n",
    "        ))\n",
    "    )\n",
    ")\n",
    "\n",
    "df_pairs = df_pairs.filter(col('distance_nm') <= lit(distance_nm))\n",
    "\n",
    "# -----------------------------------------------------------------------------\n",
    "# Fetch sample\n",
    "# -----------------------------------------------------------------------------\n",
    "\n",
    "df_pairs.cache()\n",
    "df = df_pairs.toPandas()\n",
    "print(f\"Number of unique ID pairs: {df_pairs.count()}\")\n"
   ]
  },
  {
   "cell_type": "code",
   "execution_count": 10,
   "metadata": {},
   "outputs": [
    {
     "data": {
      "text/html": [
       "<div>\n",
       "<style scoped>\n",
       "    .dataframe tbody tr th:only-of-type {\n",
       "        vertical-align: middle;\n",
       "    }\n",
       "\n",
       "    .dataframe tbody tr th {\n",
       "        vertical-align: top;\n",
       "    }\n",
       "\n",
       "    .dataframe thead th {\n",
       "        text-align: right;\n",
       "    }\n",
       "</style>\n",
       "<table border=\"1\" class=\"dataframe\">\n",
       "  <thead>\n",
       "    <tr style=\"text-align: right;\">\n",
       "      <th></th>\n",
       "      <th>ID2</th>\n",
       "      <th>ID1</th>\n",
       "      <th>time_over</th>\n",
       "      <th>h3_group</th>\n",
       "      <th>ID</th>\n",
       "      <th>lat1</th>\n",
       "      <th>lon1</th>\n",
       "      <th>time1</th>\n",
       "      <th>flight_lvl1</th>\n",
       "      <th>flight_id1</th>\n",
       "      <th>lat2</th>\n",
       "      <th>lon2</th>\n",
       "      <th>time2</th>\n",
       "      <th>flight_lvl2</th>\n",
       "      <th>flight_id2</th>\n",
       "      <th>time_diff_s</th>\n",
       "      <th>FL_diff</th>\n",
       "      <th>distance_nm</th>\n",
       "    </tr>\n",
       "  </thead>\n",
       "  <tbody>\n",
       "    <tr>\n",
       "      <th>0</th>\n",
       "      <td>68719661628</td>\n",
       "      <td>42949827276</td>\n",
       "      <td>2024-07-01 12:41:10</td>\n",
       "      <td>851f8babfffffff</td>\n",
       "      <td>42949827276_68719661628</td>\n",
       "      <td>47.000516</td>\n",
       "      <td>12.227540</td>\n",
       "      <td>2024-07-01 12:41:10</td>\n",
       "      <td>310.000000</td>\n",
       "      <td>273713103.0</td>\n",
       "      <td>47.001319</td>\n",
       "      <td>12.225116</td>\n",
       "      <td>2024-07-01 12:41:10</td>\n",
       "      <td>310.000000</td>\n",
       "      <td>273714985.0</td>\n",
       "      <td>0</td>\n",
       "      <td>0.000000</td>\n",
       "      <td>0.110479</td>\n",
       "    </tr>\n",
       "    <tr>\n",
       "      <th>1</th>\n",
       "      <td>68719661730</td>\n",
       "      <td>42949827378</td>\n",
       "      <td>2024-07-01 12:49:40</td>\n",
       "      <td>851e1677fffffff</td>\n",
       "      <td>42949827378_68719661730</td>\n",
       "      <td>46.645556</td>\n",
       "      <td>13.746389</td>\n",
       "      <td>2024-07-01 12:49:40</td>\n",
       "      <td>330.000000</td>\n",
       "      <td>273713103.0</td>\n",
       "      <td>46.644537</td>\n",
       "      <td>13.745417</td>\n",
       "      <td>2024-07-01 12:49:40</td>\n",
       "      <td>330.000000</td>\n",
       "      <td>273714985.0</td>\n",
       "      <td>0</td>\n",
       "      <td>0.000000</td>\n",
       "      <td>0.073193</td>\n",
       "    </tr>\n",
       "    <tr>\n",
       "      <th>2</th>\n",
       "      <td>68719661688</td>\n",
       "      <td>42949827336</td>\n",
       "      <td>2024-07-01 12:46:10</td>\n",
       "      <td>851e1613fffffff</td>\n",
       "      <td>42949827336_68719661688</td>\n",
       "      <td>46.795556</td>\n",
       "      <td>13.118056</td>\n",
       "      <td>2024-07-01 12:46:10</td>\n",
       "      <td>322.000000</td>\n",
       "      <td>273713103.0</td>\n",
       "      <td>46.795741</td>\n",
       "      <td>13.119028</td>\n",
       "      <td>2024-07-01 12:46:10</td>\n",
       "      <td>321.833333</td>\n",
       "      <td>273714985.0</td>\n",
       "      <td>0</td>\n",
       "      <td>0.166667</td>\n",
       "      <td>0.041526</td>\n",
       "    </tr>\n",
       "    <tr>\n",
       "      <th>3</th>\n",
       "      <td>68719661563</td>\n",
       "      <td>42949827211</td>\n",
       "      <td>2024-07-01 12:35:45</td>\n",
       "      <td>851f880ffffffff</td>\n",
       "      <td>42949827211_68719661563</td>\n",
       "      <td>47.231852</td>\n",
       "      <td>11.286157</td>\n",
       "      <td>2024-07-01 12:35:45</td>\n",
       "      <td>289.166667</td>\n",
       "      <td>273713103.0</td>\n",
       "      <td>47.234815</td>\n",
       "      <td>11.276204</td>\n",
       "      <td>2024-07-01 12:35:45</td>\n",
       "      <td>288.333333</td>\n",
       "      <td>273714985.0</td>\n",
       "      <td>0</td>\n",
       "      <td>0.833333</td>\n",
       "      <td>0.443565</td>\n",
       "    </tr>\n",
       "    <tr>\n",
       "      <th>4</th>\n",
       "      <td>68719661656</td>\n",
       "      <td>42949827304</td>\n",
       "      <td>2024-07-01 12:43:30</td>\n",
       "      <td>851e16c3fffffff</td>\n",
       "      <td>42949827304_68719661656</td>\n",
       "      <td>46.908657</td>\n",
       "      <td>12.635509</td>\n",
       "      <td>2024-07-01 12:43:30</td>\n",
       "      <td>310.000000</td>\n",
       "      <td>273713103.0</td>\n",
       "      <td>46.907546</td>\n",
       "      <td>12.637083</td>\n",
       "      <td>2024-07-01 12:43:30</td>\n",
       "      <td>310.000000</td>\n",
       "      <td>273714985.0</td>\n",
       "      <td>0</td>\n",
       "      <td>0.000000</td>\n",
       "      <td>0.092941</td>\n",
       "    </tr>\n",
       "    <tr>\n",
       "      <th>...</th>\n",
       "      <td>...</td>\n",
       "      <td>...</td>\n",
       "      <td>...</td>\n",
       "      <td>...</td>\n",
       "      <td>...</td>\n",
       "      <td>...</td>\n",
       "      <td>...</td>\n",
       "      <td>...</td>\n",
       "      <td>...</td>\n",
       "      <td>...</td>\n",
       "      <td>...</td>\n",
       "      <td>...</td>\n",
       "      <td>...</td>\n",
       "      <td>...</td>\n",
       "      <td>...</td>\n",
       "      <td>...</td>\n",
       "      <td>...</td>\n",
       "      <td>...</td>\n",
       "    </tr>\n",
       "    <tr>\n",
       "      <th>242</th>\n",
       "      <td>68719661681</td>\n",
       "      <td>42949827329</td>\n",
       "      <td>2024-07-01 12:45:35</td>\n",
       "      <td>851e16d7fffffff</td>\n",
       "      <td>42949827329_68719661681</td>\n",
       "      <td>46.820833</td>\n",
       "      <td>13.015833</td>\n",
       "      <td>2024-07-01 12:45:35</td>\n",
       "      <td>316.000000</td>\n",
       "      <td>273713103.0</td>\n",
       "      <td>46.820000</td>\n",
       "      <td>13.015278</td>\n",
       "      <td>2024-07-01 12:45:35</td>\n",
       "      <td>316.000000</td>\n",
       "      <td>273714985.0</td>\n",
       "      <td>0</td>\n",
       "      <td>0.000000</td>\n",
       "      <td>0.055055</td>\n",
       "    </tr>\n",
       "    <tr>\n",
       "      <th>243</th>\n",
       "      <td>68719661735</td>\n",
       "      <td>42949827383</td>\n",
       "      <td>2024-07-01 12:50:05</td>\n",
       "      <td>851e1607fffffff</td>\n",
       "      <td>42949827383_68719661735</td>\n",
       "      <td>46.626111</td>\n",
       "      <td>13.825787</td>\n",
       "      <td>2024-07-01 12:50:05</td>\n",
       "      <td>330.000000</td>\n",
       "      <td>273713103.0</td>\n",
       "      <td>46.626944</td>\n",
       "      <td>13.821111</td>\n",
       "      <td>2024-07-01 12:50:05</td>\n",
       "      <td>330.000000</td>\n",
       "      <td>273714985.0</td>\n",
       "      <td>0</td>\n",
       "      <td>0.000000</td>\n",
       "      <td>0.199407</td>\n",
       "    </tr>\n",
       "    <tr>\n",
       "      <th>244</th>\n",
       "      <td>68719661755</td>\n",
       "      <td>42949827403</td>\n",
       "      <td>2024-07-01 12:51:45</td>\n",
       "      <td>851e162bfffffff</td>\n",
       "      <td>42949827403_68719661755</td>\n",
       "      <td>46.545648</td>\n",
       "      <td>14.135833</td>\n",
       "      <td>2024-07-01 12:51:45</td>\n",
       "      <td>330.000000</td>\n",
       "      <td>273713103.0</td>\n",
       "      <td>46.547685</td>\n",
       "      <td>14.123796</td>\n",
       "      <td>2024-07-01 12:51:45</td>\n",
       "      <td>330.000000</td>\n",
       "      <td>273714985.0</td>\n",
       "      <td>0</td>\n",
       "      <td>0.000000</td>\n",
       "      <td>0.512442</td>\n",
       "    </tr>\n",
       "    <tr>\n",
       "      <th>245</th>\n",
       "      <td>68719661643</td>\n",
       "      <td>42949827291</td>\n",
       "      <td>2024-07-01 12:42:25</td>\n",
       "      <td>851f8bb7fffffff</td>\n",
       "      <td>42949827291_68719661643</td>\n",
       "      <td>46.949286</td>\n",
       "      <td>12.452183</td>\n",
       "      <td>2024-07-01 12:42:25</td>\n",
       "      <td>310.000000</td>\n",
       "      <td>273713103.0</td>\n",
       "      <td>46.951481</td>\n",
       "      <td>12.445463</td>\n",
       "      <td>2024-07-01 12:42:25</td>\n",
       "      <td>310.000000</td>\n",
       "      <td>273714985.0</td>\n",
       "      <td>0</td>\n",
       "      <td>0.000000</td>\n",
       "      <td>0.305669</td>\n",
       "    </tr>\n",
       "    <tr>\n",
       "      <th>246</th>\n",
       "      <td>77309463533</td>\n",
       "      <td>25769940655</td>\n",
       "      <td>2024-07-01 12:47:55</td>\n",
       "      <td>851fa153fffffff</td>\n",
       "      <td>25769940655_77309463533</td>\n",
       "      <td>50.461157</td>\n",
       "      <td>6.843148</td>\n",
       "      <td>2024-07-01 12:47:55</td>\n",
       "      <td>349.833333</td>\n",
       "      <td>273712725.0</td>\n",
       "      <td>50.495741</td>\n",
       "      <td>6.870833</td>\n",
       "      <td>2024-07-01 12:47:55</td>\n",
       "      <td>341.000000</td>\n",
       "      <td>273709619.0</td>\n",
       "      <td>0</td>\n",
       "      <td>8.833333</td>\n",
       "      <td>2.332874</td>\n",
       "    </tr>\n",
       "  </tbody>\n",
       "</table>\n",
       "<p>247 rows × 18 columns</p>\n",
       "</div>"
      ],
      "text/plain": [
       "             ID2          ID1           time_over         h3_group  \\\n",
       "0    68719661628  42949827276 2024-07-01 12:41:10  851f8babfffffff   \n",
       "1    68719661730  42949827378 2024-07-01 12:49:40  851e1677fffffff   \n",
       "2    68719661688  42949827336 2024-07-01 12:46:10  851e1613fffffff   \n",
       "3    68719661563  42949827211 2024-07-01 12:35:45  851f880ffffffff   \n",
       "4    68719661656  42949827304 2024-07-01 12:43:30  851e16c3fffffff   \n",
       "..           ...          ...                 ...              ...   \n",
       "242  68719661681  42949827329 2024-07-01 12:45:35  851e16d7fffffff   \n",
       "243  68719661735  42949827383 2024-07-01 12:50:05  851e1607fffffff   \n",
       "244  68719661755  42949827403 2024-07-01 12:51:45  851e162bfffffff   \n",
       "245  68719661643  42949827291 2024-07-01 12:42:25  851f8bb7fffffff   \n",
       "246  77309463533  25769940655 2024-07-01 12:47:55  851fa153fffffff   \n",
       "\n",
       "                          ID       lat1       lon1               time1  \\\n",
       "0    42949827276_68719661628  47.000516  12.227540 2024-07-01 12:41:10   \n",
       "1    42949827378_68719661730  46.645556  13.746389 2024-07-01 12:49:40   \n",
       "2    42949827336_68719661688  46.795556  13.118056 2024-07-01 12:46:10   \n",
       "3    42949827211_68719661563  47.231852  11.286157 2024-07-01 12:35:45   \n",
       "4    42949827304_68719661656  46.908657  12.635509 2024-07-01 12:43:30   \n",
       "..                       ...        ...        ...                 ...   \n",
       "242  42949827329_68719661681  46.820833  13.015833 2024-07-01 12:45:35   \n",
       "243  42949827383_68719661735  46.626111  13.825787 2024-07-01 12:50:05   \n",
       "244  42949827403_68719661755  46.545648  14.135833 2024-07-01 12:51:45   \n",
       "245  42949827291_68719661643  46.949286  12.452183 2024-07-01 12:42:25   \n",
       "246  25769940655_77309463533  50.461157   6.843148 2024-07-01 12:47:55   \n",
       "\n",
       "     flight_lvl1   flight_id1       lat2       lon2               time2  \\\n",
       "0     310.000000  273713103.0  47.001319  12.225116 2024-07-01 12:41:10   \n",
       "1     330.000000  273713103.0  46.644537  13.745417 2024-07-01 12:49:40   \n",
       "2     322.000000  273713103.0  46.795741  13.119028 2024-07-01 12:46:10   \n",
       "3     289.166667  273713103.0  47.234815  11.276204 2024-07-01 12:35:45   \n",
       "4     310.000000  273713103.0  46.907546  12.637083 2024-07-01 12:43:30   \n",
       "..           ...          ...        ...        ...                 ...   \n",
       "242   316.000000  273713103.0  46.820000  13.015278 2024-07-01 12:45:35   \n",
       "243   330.000000  273713103.0  46.626944  13.821111 2024-07-01 12:50:05   \n",
       "244   330.000000  273713103.0  46.547685  14.123796 2024-07-01 12:51:45   \n",
       "245   310.000000  273713103.0  46.951481  12.445463 2024-07-01 12:42:25   \n",
       "246   349.833333  273712725.0  50.495741   6.870833 2024-07-01 12:47:55   \n",
       "\n",
       "     flight_lvl2   flight_id2  time_diff_s   FL_diff  distance_nm  \n",
       "0     310.000000  273714985.0            0  0.000000     0.110479  \n",
       "1     330.000000  273714985.0            0  0.000000     0.073193  \n",
       "2     321.833333  273714985.0            0  0.166667     0.041526  \n",
       "3     288.333333  273714985.0            0  0.833333     0.443565  \n",
       "4     310.000000  273714985.0            0  0.000000     0.092941  \n",
       "..           ...          ...          ...       ...          ...  \n",
       "242   316.000000  273714985.0            0  0.000000     0.055055  \n",
       "243   330.000000  273714985.0            0  0.000000     0.199407  \n",
       "244   330.000000  273714985.0            0  0.000000     0.512442  \n",
       "245   310.000000  273714985.0            0  0.000000     0.305669  \n",
       "246   341.000000  273709619.0            0  8.833333     2.332874  \n",
       "\n",
       "[247 rows x 18 columns]"
      ]
     },
     "execution_count": 10,
     "metadata": {},
     "output_type": "execute_result"
    }
   ],
   "source": [
    "df"
   ]
  },
  {
   "cell_type": "code",
   "execution_count": 9,
   "metadata": {},
   "outputs": [
    {
     "data": {
      "text/html": [
       "<div>\n",
       "<style scoped>\n",
       "    .dataframe tbody tr th:only-of-type {\n",
       "        vertical-align: middle;\n",
       "    }\n",
       "\n",
       "    .dataframe tbody tr th {\n",
       "        vertical-align: top;\n",
       "    }\n",
       "\n",
       "    .dataframe thead th {\n",
       "        text-align: right;\n",
       "    }\n",
       "</style>\n",
       "<table border=\"1\" class=\"dataframe\">\n",
       "  <thead>\n",
       "    <tr style=\"text-align: right;\">\n",
       "      <th></th>\n",
       "      <th>ID2</th>\n",
       "      <th>ID1</th>\n",
       "      <th>h3_group</th>\n",
       "      <th>ID</th>\n",
       "      <th>lat1</th>\n",
       "      <th>lon1</th>\n",
       "      <th>time1</th>\n",
       "      <th>flight_lvl1</th>\n",
       "      <th>flight_id1</th>\n",
       "      <th>lat2</th>\n",
       "      <th>lon2</th>\n",
       "      <th>time2</th>\n",
       "      <th>flight_lvl2</th>\n",
       "      <th>flight_id2</th>\n",
       "      <th>time_diff_s</th>\n",
       "      <th>FL_diff</th>\n",
       "      <th>distance_nm</th>\n",
       "    </tr>\n",
       "  </thead>\n",
       "  <tbody>\n",
       "  </tbody>\n",
       "</table>\n",
       "</div>"
      ],
      "text/plain": [
       "Empty DataFrame\n",
       "Columns: [ID2, ID1, h3_group, ID, lat1, lon1, time1, flight_lvl1, flight_id1, lat2, lon2, time2, flight_lvl2, flight_id2, time_diff_s, FL_diff, distance_nm]\n",
       "Index: []"
      ]
     },
     "execution_count": 9,
     "metadata": {},
     "output_type": "execute_result"
    }
   ],
   "source": [
    "df_f = df[df.distance_nm > 250]\n",
    "df_f"
   ]
  },
  {
   "cell_type": "code",
   "execution_count": null,
   "metadata": {},
   "outputs": [],
   "source": []
  },
  {
   "cell_type": "code",
   "execution_count": 28,
   "metadata": {},
   "outputs": [
    {
     "data": {
      "text/plain": [
       "np.float64(37.54197652010957)"
      ]
     },
     "execution_count": 28,
     "metadata": {},
     "output_type": "execute_result"
    }
   ],
   "source": [
    "max_distance"
   ]
  },
  {
   "cell_type": "code",
   "execution_count": 26,
   "metadata": {},
   "outputs": [
    {
     "name": "stdout",
     "output_type": "stream",
     "text": [
      "{'851ec237fffffff'}\n",
      "{'851ec237fffffff', '851ec227fffffff', '851ec35bfffffff', '851ec22ffffffff', '851ec3cbfffffff', '851ec353fffffff', '851ec223fffffff'}\n",
      "{'851ec2a7fffffff', '851ec237fffffff', '851ec3dbfffffff', '851ec2abfffffff', '851ec2a3fffffff', '851ec233fffffff', '851ec2affffffff'}\n"
     ]
    }
   ],
   "source": [
    "lat1, lon1 = 41.029008, 23.695000\n",
    "lat2, lon2 = 41.465093, 23.449722\n",
    "\n",
    "s1 = set(h3.grid_disk(h3.latlng_to_cell(lat1,lon1, 5), 1))\n",
    "s2 = set(h3.grid_disk(h3.latlng_to_cell(lat2,lon2, 5), 1))\n",
    "\n",
    "print(s1.intersection(s2))\n",
    "\n",
    "print(s1)\n",
    "print(s2)\n"
   ]
  },
  {
   "cell_type": "code",
   "execution_count": 12,
   "metadata": {},
   "outputs": [
    {
     "data": {
      "text/html": [
       "<div>\n",
       "<style scoped>\n",
       "    .dataframe tbody tr th:only-of-type {\n",
       "        vertical-align: middle;\n",
       "    }\n",
       "\n",
       "    .dataframe tbody tr th {\n",
       "        vertical-align: top;\n",
       "    }\n",
       "\n",
       "    .dataframe thead th {\n",
       "        text-align: right;\n",
       "    }\n",
       "</style>\n",
       "<table border=\"1\" class=\"dataframe\">\n",
       "  <thead>\n",
       "    <tr style=\"text-align: right;\">\n",
       "      <th></th>\n",
       "      <th>ID2</th>\n",
       "      <th>ID1</th>\n",
       "      <th>time_over</th>\n",
       "      <th>h3_group</th>\n",
       "      <th>ID</th>\n",
       "      <th>lat1</th>\n",
       "      <th>lon1</th>\n",
       "      <th>time1</th>\n",
       "      <th>flight_lvl1</th>\n",
       "      <th>flight_id1</th>\n",
       "      <th>lat2</th>\n",
       "      <th>lon2</th>\n",
       "      <th>time2</th>\n",
       "      <th>flight_lvl2</th>\n",
       "      <th>flight_id2</th>\n",
       "      <th>time_diff_s</th>\n",
       "      <th>FL_diff</th>\n",
       "      <th>distance_nm</th>\n",
       "    </tr>\n",
       "  </thead>\n",
       "  <tbody>\n",
       "    <tr>\n",
       "      <th>0</th>\n",
       "      <td>68719661628</td>\n",
       "      <td>42949827276</td>\n",
       "      <td>2024-07-01 12:41:10</td>\n",
       "      <td>851f8babfffffff</td>\n",
       "      <td>42949827276_68719661628</td>\n",
       "      <td>47.000516</td>\n",
       "      <td>12.227540</td>\n",
       "      <td>2024-07-01 12:41:10</td>\n",
       "      <td>310.000000</td>\n",
       "      <td>273713103.0</td>\n",
       "      <td>47.001319</td>\n",
       "      <td>12.225116</td>\n",
       "      <td>2024-07-01 12:41:10</td>\n",
       "      <td>310.000000</td>\n",
       "      <td>273714985.0</td>\n",
       "      <td>0</td>\n",
       "      <td>0.000000</td>\n",
       "      <td>0.110479</td>\n",
       "    </tr>\n",
       "    <tr>\n",
       "      <th>1</th>\n",
       "      <td>68719661730</td>\n",
       "      <td>42949827378</td>\n",
       "      <td>2024-07-01 12:49:40</td>\n",
       "      <td>851e1677fffffff</td>\n",
       "      <td>42949827378_68719661730</td>\n",
       "      <td>46.645556</td>\n",
       "      <td>13.746389</td>\n",
       "      <td>2024-07-01 12:49:40</td>\n",
       "      <td>330.000000</td>\n",
       "      <td>273713103.0</td>\n",
       "      <td>46.644537</td>\n",
       "      <td>13.745417</td>\n",
       "      <td>2024-07-01 12:49:40</td>\n",
       "      <td>330.000000</td>\n",
       "      <td>273714985.0</td>\n",
       "      <td>0</td>\n",
       "      <td>0.000000</td>\n",
       "      <td>0.073193</td>\n",
       "    </tr>\n",
       "    <tr>\n",
       "      <th>2</th>\n",
       "      <td>68719661688</td>\n",
       "      <td>42949827336</td>\n",
       "      <td>2024-07-01 12:46:10</td>\n",
       "      <td>851e1613fffffff</td>\n",
       "      <td>42949827336_68719661688</td>\n",
       "      <td>46.795556</td>\n",
       "      <td>13.118056</td>\n",
       "      <td>2024-07-01 12:46:10</td>\n",
       "      <td>322.000000</td>\n",
       "      <td>273713103.0</td>\n",
       "      <td>46.795741</td>\n",
       "      <td>13.119028</td>\n",
       "      <td>2024-07-01 12:46:10</td>\n",
       "      <td>321.833333</td>\n",
       "      <td>273714985.0</td>\n",
       "      <td>0</td>\n",
       "      <td>0.166667</td>\n",
       "      <td>0.041526</td>\n",
       "    </tr>\n",
       "    <tr>\n",
       "      <th>3</th>\n",
       "      <td>68719661563</td>\n",
       "      <td>42949827211</td>\n",
       "      <td>2024-07-01 12:35:45</td>\n",
       "      <td>851f880ffffffff</td>\n",
       "      <td>42949827211_68719661563</td>\n",
       "      <td>47.231852</td>\n",
       "      <td>11.286157</td>\n",
       "      <td>2024-07-01 12:35:45</td>\n",
       "      <td>289.166667</td>\n",
       "      <td>273713103.0</td>\n",
       "      <td>47.234815</td>\n",
       "      <td>11.276204</td>\n",
       "      <td>2024-07-01 12:35:45</td>\n",
       "      <td>288.333333</td>\n",
       "      <td>273714985.0</td>\n",
       "      <td>0</td>\n",
       "      <td>0.833333</td>\n",
       "      <td>0.443565</td>\n",
       "    </tr>\n",
       "    <tr>\n",
       "      <th>4</th>\n",
       "      <td>68719661656</td>\n",
       "      <td>42949827304</td>\n",
       "      <td>2024-07-01 12:43:30</td>\n",
       "      <td>851e16c3fffffff</td>\n",
       "      <td>42949827304_68719661656</td>\n",
       "      <td>46.908657</td>\n",
       "      <td>12.635509</td>\n",
       "      <td>2024-07-01 12:43:30</td>\n",
       "      <td>310.000000</td>\n",
       "      <td>273713103.0</td>\n",
       "      <td>46.907546</td>\n",
       "      <td>12.637083</td>\n",
       "      <td>2024-07-01 12:43:30</td>\n",
       "      <td>310.000000</td>\n",
       "      <td>273714985.0</td>\n",
       "      <td>0</td>\n",
       "      <td>0.000000</td>\n",
       "      <td>0.092941</td>\n",
       "    </tr>\n",
       "    <tr>\n",
       "      <th>...</th>\n",
       "      <td>...</td>\n",
       "      <td>...</td>\n",
       "      <td>...</td>\n",
       "      <td>...</td>\n",
       "      <td>...</td>\n",
       "      <td>...</td>\n",
       "      <td>...</td>\n",
       "      <td>...</td>\n",
       "      <td>...</td>\n",
       "      <td>...</td>\n",
       "      <td>...</td>\n",
       "      <td>...</td>\n",
       "      <td>...</td>\n",
       "      <td>...</td>\n",
       "      <td>...</td>\n",
       "      <td>...</td>\n",
       "      <td>...</td>\n",
       "      <td>...</td>\n",
       "    </tr>\n",
       "    <tr>\n",
       "      <th>242</th>\n",
       "      <td>68719661681</td>\n",
       "      <td>42949827329</td>\n",
       "      <td>2024-07-01 12:45:35</td>\n",
       "      <td>851e16d7fffffff</td>\n",
       "      <td>42949827329_68719661681</td>\n",
       "      <td>46.820833</td>\n",
       "      <td>13.015833</td>\n",
       "      <td>2024-07-01 12:45:35</td>\n",
       "      <td>316.000000</td>\n",
       "      <td>273713103.0</td>\n",
       "      <td>46.820000</td>\n",
       "      <td>13.015278</td>\n",
       "      <td>2024-07-01 12:45:35</td>\n",
       "      <td>316.000000</td>\n",
       "      <td>273714985.0</td>\n",
       "      <td>0</td>\n",
       "      <td>0.000000</td>\n",
       "      <td>0.055055</td>\n",
       "    </tr>\n",
       "    <tr>\n",
       "      <th>243</th>\n",
       "      <td>68719661735</td>\n",
       "      <td>42949827383</td>\n",
       "      <td>2024-07-01 12:50:05</td>\n",
       "      <td>851e1607fffffff</td>\n",
       "      <td>42949827383_68719661735</td>\n",
       "      <td>46.626111</td>\n",
       "      <td>13.825787</td>\n",
       "      <td>2024-07-01 12:50:05</td>\n",
       "      <td>330.000000</td>\n",
       "      <td>273713103.0</td>\n",
       "      <td>46.626944</td>\n",
       "      <td>13.821111</td>\n",
       "      <td>2024-07-01 12:50:05</td>\n",
       "      <td>330.000000</td>\n",
       "      <td>273714985.0</td>\n",
       "      <td>0</td>\n",
       "      <td>0.000000</td>\n",
       "      <td>0.199407</td>\n",
       "    </tr>\n",
       "    <tr>\n",
       "      <th>244</th>\n",
       "      <td>68719661755</td>\n",
       "      <td>42949827403</td>\n",
       "      <td>2024-07-01 12:51:45</td>\n",
       "      <td>851e162bfffffff</td>\n",
       "      <td>42949827403_68719661755</td>\n",
       "      <td>46.545648</td>\n",
       "      <td>14.135833</td>\n",
       "      <td>2024-07-01 12:51:45</td>\n",
       "      <td>330.000000</td>\n",
       "      <td>273713103.0</td>\n",
       "      <td>46.547685</td>\n",
       "      <td>14.123796</td>\n",
       "      <td>2024-07-01 12:51:45</td>\n",
       "      <td>330.000000</td>\n",
       "      <td>273714985.0</td>\n",
       "      <td>0</td>\n",
       "      <td>0.000000</td>\n",
       "      <td>0.512442</td>\n",
       "    </tr>\n",
       "    <tr>\n",
       "      <th>245</th>\n",
       "      <td>68719661643</td>\n",
       "      <td>42949827291</td>\n",
       "      <td>2024-07-01 12:42:25</td>\n",
       "      <td>851f8bb7fffffff</td>\n",
       "      <td>42949827291_68719661643</td>\n",
       "      <td>46.949286</td>\n",
       "      <td>12.452183</td>\n",
       "      <td>2024-07-01 12:42:25</td>\n",
       "      <td>310.000000</td>\n",
       "      <td>273713103.0</td>\n",
       "      <td>46.951481</td>\n",
       "      <td>12.445463</td>\n",
       "      <td>2024-07-01 12:42:25</td>\n",
       "      <td>310.000000</td>\n",
       "      <td>273714985.0</td>\n",
       "      <td>0</td>\n",
       "      <td>0.000000</td>\n",
       "      <td>0.305669</td>\n",
       "    </tr>\n",
       "    <tr>\n",
       "      <th>246</th>\n",
       "      <td>77309463533</td>\n",
       "      <td>25769940655</td>\n",
       "      <td>2024-07-01 12:47:55</td>\n",
       "      <td>851fa153fffffff</td>\n",
       "      <td>25769940655_77309463533</td>\n",
       "      <td>50.461157</td>\n",
       "      <td>6.843148</td>\n",
       "      <td>2024-07-01 12:47:55</td>\n",
       "      <td>349.833333</td>\n",
       "      <td>273712725.0</td>\n",
       "      <td>50.495741</td>\n",
       "      <td>6.870833</td>\n",
       "      <td>2024-07-01 12:47:55</td>\n",
       "      <td>341.000000</td>\n",
       "      <td>273709619.0</td>\n",
       "      <td>0</td>\n",
       "      <td>8.833333</td>\n",
       "      <td>2.332874</td>\n",
       "    </tr>\n",
       "  </tbody>\n",
       "</table>\n",
       "<p>247 rows × 18 columns</p>\n",
       "</div>"
      ],
      "text/plain": [
       "             ID2          ID1           time_over         h3_group  \\\n",
       "0    68719661628  42949827276 2024-07-01 12:41:10  851f8babfffffff   \n",
       "1    68719661730  42949827378 2024-07-01 12:49:40  851e1677fffffff   \n",
       "2    68719661688  42949827336 2024-07-01 12:46:10  851e1613fffffff   \n",
       "3    68719661563  42949827211 2024-07-01 12:35:45  851f880ffffffff   \n",
       "4    68719661656  42949827304 2024-07-01 12:43:30  851e16c3fffffff   \n",
       "..           ...          ...                 ...              ...   \n",
       "242  68719661681  42949827329 2024-07-01 12:45:35  851e16d7fffffff   \n",
       "243  68719661735  42949827383 2024-07-01 12:50:05  851e1607fffffff   \n",
       "244  68719661755  42949827403 2024-07-01 12:51:45  851e162bfffffff   \n",
       "245  68719661643  42949827291 2024-07-01 12:42:25  851f8bb7fffffff   \n",
       "246  77309463533  25769940655 2024-07-01 12:47:55  851fa153fffffff   \n",
       "\n",
       "                          ID       lat1       lon1               time1  \\\n",
       "0    42949827276_68719661628  47.000516  12.227540 2024-07-01 12:41:10   \n",
       "1    42949827378_68719661730  46.645556  13.746389 2024-07-01 12:49:40   \n",
       "2    42949827336_68719661688  46.795556  13.118056 2024-07-01 12:46:10   \n",
       "3    42949827211_68719661563  47.231852  11.286157 2024-07-01 12:35:45   \n",
       "4    42949827304_68719661656  46.908657  12.635509 2024-07-01 12:43:30   \n",
       "..                       ...        ...        ...                 ...   \n",
       "242  42949827329_68719661681  46.820833  13.015833 2024-07-01 12:45:35   \n",
       "243  42949827383_68719661735  46.626111  13.825787 2024-07-01 12:50:05   \n",
       "244  42949827403_68719661755  46.545648  14.135833 2024-07-01 12:51:45   \n",
       "245  42949827291_68719661643  46.949286  12.452183 2024-07-01 12:42:25   \n",
       "246  25769940655_77309463533  50.461157   6.843148 2024-07-01 12:47:55   \n",
       "\n",
       "     flight_lvl1   flight_id1       lat2       lon2               time2  \\\n",
       "0     310.000000  273713103.0  47.001319  12.225116 2024-07-01 12:41:10   \n",
       "1     330.000000  273713103.0  46.644537  13.745417 2024-07-01 12:49:40   \n",
       "2     322.000000  273713103.0  46.795741  13.119028 2024-07-01 12:46:10   \n",
       "3     289.166667  273713103.0  47.234815  11.276204 2024-07-01 12:35:45   \n",
       "4     310.000000  273713103.0  46.907546  12.637083 2024-07-01 12:43:30   \n",
       "..           ...          ...        ...        ...                 ...   \n",
       "242   316.000000  273713103.0  46.820000  13.015278 2024-07-01 12:45:35   \n",
       "243   330.000000  273713103.0  46.626944  13.821111 2024-07-01 12:50:05   \n",
       "244   330.000000  273713103.0  46.547685  14.123796 2024-07-01 12:51:45   \n",
       "245   310.000000  273713103.0  46.951481  12.445463 2024-07-01 12:42:25   \n",
       "246   349.833333  273712725.0  50.495741   6.870833 2024-07-01 12:47:55   \n",
       "\n",
       "     flight_lvl2   flight_id2  time_diff_s   FL_diff  distance_nm  \n",
       "0     310.000000  273714985.0            0  0.000000     0.110479  \n",
       "1     330.000000  273714985.0            0  0.000000     0.073193  \n",
       "2     321.833333  273714985.0            0  0.166667     0.041526  \n",
       "3     288.333333  273714985.0            0  0.833333     0.443565  \n",
       "4     310.000000  273714985.0            0  0.000000     0.092941  \n",
       "..           ...          ...          ...       ...          ...  \n",
       "242   316.000000  273714985.0            0  0.000000     0.055055  \n",
       "243   330.000000  273714985.0            0  0.000000     0.199407  \n",
       "244   330.000000  273714985.0            0  0.000000     0.512442  \n",
       "245   310.000000  273714985.0            0  0.000000     0.305669  \n",
       "246   341.000000  273709619.0            0  8.833333     2.332874  \n",
       "\n",
       "[247 rows x 18 columns]"
      ]
     },
     "execution_count": 12,
     "metadata": {},
     "output_type": "execute_result"
    }
   ],
   "source": [
    "df"
   ]
  },
  {
   "cell_type": "code",
   "execution_count": 11,
   "metadata": {},
   "outputs": [
    {
     "data": {
      "application/vnd.plotly.v1+json": {
       "config": {
        "plotlyServerURL": "https://plot.ly"
       },
       "data": [
        {
         "bingroup": "x",
         "hovertemplate": "distance_nm=%{x}<br>count=%{y}<extra></extra>",
         "legendgroup": "",
         "marker": {
          "color": "#636efa",
          "pattern": {
           "shape": ""
          }
         },
         "name": "",
         "orientation": "v",
         "showlegend": false,
         "type": "histogram",
         "x": {
          "bdata": "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",
          "dtype": "f8"
         },
         "xaxis": "x",
         "yaxis": "y"
        }
       ],
       "layout": {
        "barmode": "relative",
        "legend": {
         "tracegroupgap": 0
        },
        "margin": {
         "t": 60
        },
        "shapes": [
         {
          "line": {
           "color": "firebrick",
           "dash": "dash"
          },
          "type": "line",
          "x0": 37.54197652010957,
          "x1": 37.54197652010957,
          "xref": "x",
          "y0": 0,
          "y1": 1,
          "yref": "y domain"
         }
        ],
        "template": {
         "data": {
          "bar": [
           {
            "error_x": {
             "color": "#2a3f5f"
            },
            "error_y": {
             "color": "#2a3f5f"
            },
            "marker": {
             "line": {
              "color": "#E5ECF6",
              "width": 0.5
             },
             "pattern": {
              "fillmode": "overlay",
              "size": 10,
              "solidity": 0.2
             }
            },
            "type": "bar"
           }
          ],
          "barpolar": [
           {
            "marker": {
             "line": {
              "color": "#E5ECF6",
              "width": 0.5
             },
             "pattern": {
              "fillmode": "overlay",
              "size": 10,
              "solidity": 0.2
             }
            },
            "type": "barpolar"
           }
          ],
          "carpet": [
           {
            "aaxis": {
             "endlinecolor": "#2a3f5f",
             "gridcolor": "white",
             "linecolor": "white",
             "minorgridcolor": "white",
             "startlinecolor": "#2a3f5f"
            },
            "baxis": {
             "endlinecolor": "#2a3f5f",
             "gridcolor": "white",
             "linecolor": "white",
             "minorgridcolor": "white",
             "startlinecolor": "#2a3f5f"
            },
            "type": "carpet"
           }
          ],
          "choropleth": [
           {
            "colorbar": {
             "outlinewidth": 0,
             "ticks": ""
            },
            "type": "choropleth"
           }
          ],
          "contour": [
           {
            "colorbar": {
             "outlinewidth": 0,
             "ticks": ""
            },
            "colorscale": [
             [
              0,
              "#0d0887"
             ],
             [
              0.1111111111111111,
              "#46039f"
             ],
             [
              0.2222222222222222,
              "#7201a8"
             ],
             [
              0.3333333333333333,
              "#9c179e"
             ],
             [
              0.4444444444444444,
              "#bd3786"
             ],
             [
              0.5555555555555556,
              "#d8576b"
             ],
             [
              0.6666666666666666,
              "#ed7953"
             ],
             [
              0.7777777777777778,
              "#fb9f3a"
             ],
             [
              0.8888888888888888,
              "#fdca26"
             ],
             [
              1,
              "#f0f921"
             ]
            ],
            "type": "contour"
           }
          ],
          "contourcarpet": [
           {
            "colorbar": {
             "outlinewidth": 0,
             "ticks": ""
            },
            "type": "contourcarpet"
           }
          ],
          "heatmap": [
           {
            "colorbar": {
             "outlinewidth": 0,
             "ticks": ""
            },
            "colorscale": [
             [
              0,
              "#0d0887"
             ],
             [
              0.1111111111111111,
              "#46039f"
             ],
             [
              0.2222222222222222,
              "#7201a8"
             ],
             [
              0.3333333333333333,
              "#9c179e"
             ],
             [
              0.4444444444444444,
              "#bd3786"
             ],
             [
              0.5555555555555556,
              "#d8576b"
             ],
             [
              0.6666666666666666,
              "#ed7953"
             ],
             [
              0.7777777777777778,
              "#fb9f3a"
             ],
             [
              0.8888888888888888,
              "#fdca26"
             ],
             [
              1,
              "#f0f921"
             ]
            ],
            "type": "heatmap"
           }
          ],
          "histogram": [
           {
            "marker": {
             "pattern": {
              "fillmode": "overlay",
              "size": 10,
              "solidity": 0.2
             }
            },
            "type": "histogram"
           }
          ],
          "histogram2d": [
           {
            "colorbar": {
             "outlinewidth": 0,
             "ticks": ""
            },
            "colorscale": [
             [
              0,
              "#0d0887"
             ],
             [
              0.1111111111111111,
              "#46039f"
             ],
             [
              0.2222222222222222,
              "#7201a8"
             ],
             [
              0.3333333333333333,
              "#9c179e"
             ],
             [
              0.4444444444444444,
              "#bd3786"
             ],
             [
              0.5555555555555556,
              "#d8576b"
             ],
             [
              0.6666666666666666,
              "#ed7953"
             ],
             [
              0.7777777777777778,
              "#fb9f3a"
             ],
             [
              0.8888888888888888,
              "#fdca26"
             ],
             [
              1,
              "#f0f921"
             ]
            ],
            "type": "histogram2d"
           }
          ],
          "histogram2dcontour": [
           {
            "colorbar": {
             "outlinewidth": 0,
             "ticks": ""
            },
            "colorscale": [
             [
              0,
              "#0d0887"
             ],
             [
              0.1111111111111111,
              "#46039f"
             ],
             [
              0.2222222222222222,
              "#7201a8"
             ],
             [
              0.3333333333333333,
              "#9c179e"
             ],
             [
              0.4444444444444444,
              "#bd3786"
             ],
             [
              0.5555555555555556,
              "#d8576b"
             ],
             [
              0.6666666666666666,
              "#ed7953"
             ],
             [
              0.7777777777777778,
              "#fb9f3a"
             ],
             [
              0.8888888888888888,
              "#fdca26"
             ],
             [
              1,
              "#f0f921"
             ]
            ],
            "type": "histogram2dcontour"
           }
          ],
          "mesh3d": [
           {
            "colorbar": {
             "outlinewidth": 0,
             "ticks": ""
            },
            "type": "mesh3d"
           }
          ],
          "parcoords": [
           {
            "line": {
             "colorbar": {
              "outlinewidth": 0,
              "ticks": ""
             }
            },
            "type": "parcoords"
           }
          ],
          "pie": [
           {
            "automargin": true,
            "type": "pie"
           }
          ],
          "scatter": [
           {
            "fillpattern": {
             "fillmode": "overlay",
             "size": 10,
             "solidity": 0.2
            },
            "type": "scatter"
           }
          ],
          "scatter3d": [
           {
            "line": {
             "colorbar": {
              "outlinewidth": 0,
              "ticks": ""
             }
            },
            "marker": {
             "colorbar": {
              "outlinewidth": 0,
              "ticks": ""
             }
            },
            "type": "scatter3d"
           }
          ],
          "scattercarpet": [
           {
            "marker": {
             "colorbar": {
              "outlinewidth": 0,
              "ticks": ""
             }
            },
            "type": "scattercarpet"
           }
          ],
          "scattergeo": [
           {
            "marker": {
             "colorbar": {
              "outlinewidth": 0,
              "ticks": ""
             }
            },
            "type": "scattergeo"
           }
          ],
          "scattergl": [
           {
            "marker": {
             "colorbar": {
              "outlinewidth": 0,
              "ticks": ""
             }
            },
            "type": "scattergl"
           }
          ],
          "scattermap": [
           {
            "marker": {
             "colorbar": {
              "outlinewidth": 0,
              "ticks": ""
             }
            },
            "type": "scattermap"
           }
          ],
          "scattermapbox": [
           {
            "marker": {
             "colorbar": {
              "outlinewidth": 0,
              "ticks": ""
             }
            },
            "type": "scattermapbox"
           }
          ],
          "scatterpolar": [
           {
            "marker": {
             "colorbar": {
              "outlinewidth": 0,
              "ticks": ""
             }
            },
            "type": "scatterpolar"
           }
          ],
          "scatterpolargl": [
           {
            "marker": {
             "colorbar": {
              "outlinewidth": 0,
              "ticks": ""
             }
            },
            "type": "scatterpolargl"
           }
          ],
          "scatterternary": [
           {
            "marker": {
             "colorbar": {
              "outlinewidth": 0,
              "ticks": ""
             }
            },
            "type": "scatterternary"
           }
          ],
          "surface": [
           {
            "colorbar": {
             "outlinewidth": 0,
             "ticks": ""
            },
            "colorscale": [
             [
              0,
              "#0d0887"
             ],
             [
              0.1111111111111111,
              "#46039f"
             ],
             [
              0.2222222222222222,
              "#7201a8"
             ],
             [
              0.3333333333333333,
              "#9c179e"
             ],
             [
              0.4444444444444444,
              "#bd3786"
             ],
             [
              0.5555555555555556,
              "#d8576b"
             ],
             [
              0.6666666666666666,
              "#ed7953"
             ],
             [
              0.7777777777777778,
              "#fb9f3a"
             ],
             [
              0.8888888888888888,
              "#fdca26"
             ],
             [
              1,
              "#f0f921"
             ]
            ],
            "type": "surface"
           }
          ],
          "table": [
           {
            "cells": {
             "fill": {
              "color": "#EBF0F8"
             },
             "line": {
              "color": "white"
             }
            },
            "header": {
             "fill": {
              "color": "#C8D4E3"
             },
             "line": {
              "color": "white"
             }
            },
            "type": "table"
           }
          ]
         },
         "layout": {
          "annotationdefaults": {
           "arrowcolor": "#2a3f5f",
           "arrowhead": 0,
           "arrowwidth": 1
          },
          "autotypenumbers": "strict",
          "coloraxis": {
           "colorbar": {
            "outlinewidth": 0,
            "ticks": ""
           }
          },
          "colorscale": {
           "diverging": [
            [
             0,
             "#8e0152"
            ],
            [
             0.1,
             "#c51b7d"
            ],
            [
             0.2,
             "#de77ae"
            ],
            [
             0.3,
             "#f1b6da"
            ],
            [
             0.4,
             "#fde0ef"
            ],
            [
             0.5,
             "#f7f7f7"
            ],
            [
             0.6,
             "#e6f5d0"
            ],
            [
             0.7,
             "#b8e186"
            ],
            [
             0.8,
             "#7fbc41"
            ],
            [
             0.9,
             "#4d9221"
            ],
            [
             1,
             "#276419"
            ]
           ],
           "sequential": [
            [
             0,
             "#0d0887"
            ],
            [
             0.1111111111111111,
             "#46039f"
            ],
            [
             0.2222222222222222,
             "#7201a8"
            ],
            [
             0.3333333333333333,
             "#9c179e"
            ],
            [
             0.4444444444444444,
             "#bd3786"
            ],
            [
             0.5555555555555556,
             "#d8576b"
            ],
            [
             0.6666666666666666,
             "#ed7953"
            ],
            [
             0.7777777777777778,
             "#fb9f3a"
            ],
            [
             0.8888888888888888,
             "#fdca26"
            ],
            [
             1,
             "#f0f921"
            ]
           ],
           "sequentialminus": [
            [
             0,
             "#0d0887"
            ],
            [
             0.1111111111111111,
             "#46039f"
            ],
            [
             0.2222222222222222,
             "#7201a8"
            ],
            [
             0.3333333333333333,
             "#9c179e"
            ],
            [
             0.4444444444444444,
             "#bd3786"
            ],
            [
             0.5555555555555556,
             "#d8576b"
            ],
            [
             0.6666666666666666,
             "#ed7953"
            ],
            [
             0.7777777777777778,
             "#fb9f3a"
            ],
            [
             0.8888888888888888,
             "#fdca26"
            ],
            [
             1,
             "#f0f921"
            ]
           ]
          },
          "colorway": [
           "#636efa",
           "#EF553B",
           "#00cc96",
           "#ab63fa",
           "#FFA15A",
           "#19d3f3",
           "#FF6692",
           "#B6E880",
           "#FF97FF",
           "#FECB52"
          ],
          "font": {
           "color": "#2a3f5f"
          },
          "geo": {
           "bgcolor": "white",
           "lakecolor": "white",
           "landcolor": "#E5ECF6",
           "showlakes": true,
           "showland": true,
           "subunitcolor": "white"
          },
          "hoverlabel": {
           "align": "left"
          },
          "hovermode": "closest",
          "mapbox": {
           "style": "light"
          },
          "paper_bgcolor": "white",
          "plot_bgcolor": "#E5ECF6",
          "polar": {
           "angularaxis": {
            "gridcolor": "white",
            "linecolor": "white",
            "ticks": ""
           },
           "bgcolor": "#E5ECF6",
           "radialaxis": {
            "gridcolor": "white",
            "linecolor": "white",
            "ticks": ""
           }
          },
          "scene": {
           "xaxis": {
            "backgroundcolor": "#E5ECF6",
            "gridcolor": "white",
            "gridwidth": 2,
            "linecolor": "white",
            "showbackground": true,
            "ticks": "",
            "zerolinecolor": "white"
           },
           "yaxis": {
            "backgroundcolor": "#E5ECF6",
            "gridcolor": "white",
            "gridwidth": 2,
            "linecolor": "white",
            "showbackground": true,
            "ticks": "",
            "zerolinecolor": "white"
           },
           "zaxis": {
            "backgroundcolor": "#E5ECF6",
            "gridcolor": "white",
            "gridwidth": 2,
            "linecolor": "white",
            "showbackground": true,
            "ticks": "",
            "zerolinecolor": "white"
           }
          },
          "shapedefaults": {
           "line": {
            "color": "#2a3f5f"
           }
          },
          "ternary": {
           "aaxis": {
            "gridcolor": "white",
            "linecolor": "white",
            "ticks": ""
           },
           "baxis": {
            "gridcolor": "white",
            "linecolor": "white",
            "ticks": ""
           },
           "bgcolor": "#E5ECF6",
           "caxis": {
            "gridcolor": "white",
            "linecolor": "white",
            "ticks": ""
           }
          },
          "title": {
           "x": 0.05
          },
          "xaxis": {
           "automargin": true,
           "gridcolor": "white",
           "linecolor": "white",
           "ticks": "",
           "title": {
            "standoff": 15
           },
           "zerolinecolor": "white",
           "zerolinewidth": 2
          },
          "yaxis": {
           "automargin": true,
           "gridcolor": "white",
           "linecolor": "white",
           "ticks": "",
           "title": {
            "standoff": 15
           },
           "zerolinecolor": "white",
           "zerolinewidth": 2
          }
         }
        },
        "xaxis": {
         "anchor": "y",
         "domain": [
          0,
          1
         ],
         "title": {
          "text": "distance_nm"
         }
        },
        "yaxis": {
         "anchor": "x",
         "domain": [
          0,
          1
         ],
         "title": {
          "text": "count"
         }
        }
       }
      }
     },
     "metadata": {},
     "output_type": "display_data"
    }
   ],
   "source": [
    "import plotly.express as px\n",
    "max_distance = np.sqrt(3)/2*10.837435124897937*4\n",
    "fig = px.histogram(df, x='distance_nm')\n",
    "\n",
    "fig.add_vline(x=max_distance, line_dash = 'dash', line_color = 'firebrick')"
   ]
  },
  {
   "cell_type": "code",
   "execution_count": null,
   "metadata": {},
   "outputs": [],
   "source": []
  },
  {
   "cell_type": "code",
   "execution_count": null,
   "metadata": {},
   "outputs": [],
   "source": []
  },
  {
   "cell_type": "code",
   "execution_count": null,
   "metadata": {},
   "outputs": [],
   "source": []
  },
  {
   "cell_type": "code",
   "execution_count": null,
   "metadata": {},
   "outputs": [],
   "source": [
    "coords_df = pd.read_parquet('~/Repos/close-encounters/data/flight_profiles_cpf_20240701_filtered.parquet')\n",
    "coords_df['SEGMENT_ID'] = coords_df.index\n",
    "coords_df = coords_df[coords_df.FLIGHT_LEVEL > 250]\n",
    "coords_df = coords_df[['FLIGHT_ID', 'SEGMENT_ID', 'LONGITUDE', 'LATITUDE', 'TIME_OVER', 'FLIGHT_LEVEL', 'AIRCRAFT_TYPE']].rename(\n",
    "    columns={\n",
    "        'LATITUDE': 'latitude', \n",
    "        'LONGITUDE': 'longitude'\n",
    "        }\n",
    "    )\n",
    "\n",
    "c1 = coords_df[['FLIGHT_ID', 'SEGMENT_ID', 'AIRCRAFT_TYPE']].rename(\n",
    "    {'FLIGHT_ID':'FLIGHT_ID1', 'SEGMENT_ID':'ID1', 'AIRCRAFT_TYPE':'AC1'},axis=1)\n",
    "c2 = coords_df[['FLIGHT_ID', 'SEGMENT_ID', 'AIRCRAFT_TYPE']].rename(\n",
    "    {'FLIGHT_ID':'FLIGHT_ID2', 'SEGMENT_ID':'ID2', 'AIRCRAFT_TYPE':'AC2'},axis=1)\n",
    "\n",
    "df = df.merge(c1, how='left').merge(c2, how='left')"
   ]
  },
  {
   "cell_type": "code",
   "execution_count": null,
   "metadata": {},
   "outputs": [],
   "source": [
    "coords_df['FLIGHT_ID'] = coords_df['FLIGHT_ID'].apply(str) + '_id'\n",
    "df['FLIGHT_ID1'] = df['FLIGHT_ID1'].apply(str) + '_id'\n",
    "df['FLIGHT_ID2'] = df['FLIGHT_ID2'].apply(str) + '_id'\n",
    "coords_df = coords_df[coords_df.FLIGHT_ID.isin(df.FLIGHT_ID1.to_list() + df.FLIGHT_ID2.to_list())]"
   ]
  },
  {
   "cell_type": "code",
   "execution_count": null,
   "metadata": {},
   "outputs": [],
   "source": [
    "coords_df.to_parquet('coords.parquet')"
   ]
  },
  {
   "cell_type": "code",
   "execution_count": null,
   "metadata": {},
   "outputs": [],
   "source": [
    "df.to_parquet('pairs.parquet')"
   ]
  },
  {
   "cell_type": "code",
   "execution_count": null,
   "metadata": {},
   "outputs": [],
   "source": [
    "print(df[df.ID2 == 2557313].lon2.values[0])"
   ]
  },
  {
   "cell_type": "code",
   "execution_count": null,
   "metadata": {},
   "outputs": [],
   "source": [
    "print(coords_df[coords_df.SEGMENT_ID == 2557313].longitude.values[0])"
   ]
  },
  {
   "cell_type": "code",
   "execution_count": null,
   "metadata": {},
   "outputs": [],
   "source": [
    "df_pairs.toPandas()"
   ]
  },
  {
   "cell_type": "code",
   "execution_count": null,
   "metadata": {},
   "outputs": [],
   "source": []
  }
 ],
 "metadata": {
  "kernelspec": {
   "display_name": "Python 3",
   "language": "python",
   "name": "python3"
  },
  "language_info": {
   "codemirror_mode": {
    "name": "ipython",
    "version": 3
   },
   "file_extension": ".py",
   "mimetype": "text/x-python",
   "name": "python",
   "nbconvert_exporter": "python",
   "pygments_lexer": "ipython3",
   "version": "3.12.9"
  }
 },
 "nbformat": 4,
 "nbformat_minor": 2
}
